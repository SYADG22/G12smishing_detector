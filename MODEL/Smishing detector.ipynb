{
 "cells": [
  {
   "cell_type": "markdown",
   "id": "9cb9c082",
   "metadata": {},
   "source": [
    "## Smishing Detector\n",
    "\n",
    "## Introduction\n",
    "\n",
    "In today's digital age, where smartphones are an integral part of our lives, SMS (Short Message Service) has become a common means of communication. While SMS messages are often used for legitimate purposes, they can also be exploited for malicious activities, such as phishing. Smishing, a portmanteau of \"SMS\" and \"phishing,\" is a form of cyberattack in which attackers use deceptive SMS messages to trick recipients into revealing sensitive information or clicking on malicious links.\n",
    "\n",
    "The rise of smishing attacks has prompted the need for effective tools to detect and mitigate such threats. In this Jupyter Notebook, we will explore the development of a Smishing Detector, a machine learning-based solution designed to identify and flag potentially malicious SMS messages.\n",
    "\n",
    "## Steps\n",
    "1. Loading the data\n",
    "2. Data cleaning\n",
    "3. Familiarizing with data & EDA\n",
    "4. Visualizing the data\n",
    "5. Splitting the data\n",
    "6. Training the data\n",
    "7. Comparision of Model\n",
    "8. Exporting of model"
   ]
  },
  {
   "cell_type": "code",
   "execution_count": 30,
   "id": "de068041",
   "metadata": {},
   "outputs": [],
   "source": [
    "#Importing pandas and numpy\n",
    "import numpy as np\n",
    "import pandas as pd"
   ]
  },
  {
   "cell_type": "markdown",
   "id": "a22f434b",
   "metadata": {},
   "source": [
    "## 1. IMPORTING AND VIEW OF THE DATA"
   ]
  },
  {
   "cell_type": "code",
   "execution_count": 31,
   "id": "8e4a28b4",
   "metadata": {},
   "outputs": [],
   "source": [
    "dataset = pd.read_csv('smishing.csv')"
   ]
  },
  {
   "cell_type": "code",
   "execution_count": 32,
   "id": "510a1af2",
   "metadata": {},
   "outputs": [
    {
     "data": {
      "text/html": [
       "<div>\n",
       "<style scoped>\n",
       "    .dataframe tbody tr th:only-of-type {\n",
       "        vertical-align: middle;\n",
       "    }\n",
       "\n",
       "    .dataframe tbody tr th {\n",
       "        vertical-align: top;\n",
       "    }\n",
       "\n",
       "    .dataframe thead th {\n",
       "        text-align: right;\n",
       "    }\n",
       "</style>\n",
       "<table border=\"1\" class=\"dataframe\">\n",
       "  <thead>\n",
       "    <tr style=\"text-align: right;\">\n",
       "      <th></th>\n",
       "      <th>LABEL</th>\n",
       "      <th>TEXT</th>\n",
       "      <th>URL</th>\n",
       "      <th>EMAIL</th>\n",
       "      <th>PHONE</th>\n",
       "    </tr>\n",
       "  </thead>\n",
       "  <tbody>\n",
       "    <tr>\n",
       "      <th>6101</th>\n",
       "      <td>legit</td>\n",
       "      <td>Madera ambiri akuzizira m'Malawi muno, yimbani...</td>\n",
       "      <td>No</td>\n",
       "      <td>No</td>\n",
       "      <td>yes</td>\n",
       "    </tr>\n",
       "    <tr>\n",
       "      <th>6102</th>\n",
       "      <td>legit</td>\n",
       "      <td>Tiketi imodzi YAULELE ya MK500 ikudikila inu 8...</td>\n",
       "      <td>No</td>\n",
       "      <td>No</td>\n",
       "      <td>yes</td>\n",
       "    </tr>\n",
       "    <tr>\n",
       "      <th>6103</th>\n",
       "      <td>legit</td>\n",
       "      <td>Pezani mwayi opata mphoto yokwana MK5Mil ndiku...</td>\n",
       "      <td>No</td>\n",
       "      <td>No</td>\n",
       "      <td>yes</td>\n",
       "    </tr>\n",
       "    <tr>\n",
       "      <th>6104</th>\n",
       "      <td>legit</td>\n",
       "      <td>Unduna wa za Umoyo ukulimbikitsa inu kukalandi...</td>\n",
       "      <td>No</td>\n",
       "      <td>No</td>\n",
       "      <td>yes</td>\n",
       "    </tr>\n",
       "    <tr>\n",
       "      <th>6105</th>\n",
       "      <td>legit</td>\n",
       "      <td>Unduna wa za umoyo ukukulimbikitsani kuti muka...</td>\n",
       "      <td>No</td>\n",
       "      <td>No</td>\n",
       "      <td>yes</td>\n",
       "    </tr>\n",
       "  </tbody>\n",
       "</table>\n",
       "</div>"
      ],
      "text/plain": [
       "      LABEL                                               TEXT URL EMAIL PHONE\n",
       "6101  legit  Madera ambiri akuzizira m'Malawi muno, yimbani...  No    No   yes\n",
       "6102  legit  Tiketi imodzi YAULELE ya MK500 ikudikila inu 8...  No    No   yes\n",
       "6103  legit  Pezani mwayi opata mphoto yokwana MK5Mil ndiku...  No    No   yes\n",
       "6104  legit  Unduna wa za Umoyo ukulimbikitsa inu kukalandi...  No    No   yes\n",
       "6105  legit  Unduna wa za umoyo ukukulimbikitsani kuti muka...  No    No   yes"
      ]
     },
     "execution_count": 32,
     "metadata": {},
     "output_type": "execute_result"
    }
   ],
   "source": [
    "#dataset.head()\n",
    "#dataset.sample(5)\n",
    "dataset.tail()"
   ]
  },
  {
   "cell_type": "code",
   "execution_count": 34,
   "id": "cea76700",
   "metadata": {},
   "outputs": [
    {
     "data": {
      "text/plain": [
       "(6106, 5)"
      ]
     },
     "execution_count": 34,
     "metadata": {},
     "output_type": "execute_result"
    }
   ],
   "source": [
    "dataset.shape"
   ]
  },
  {
   "cell_type": "markdown",
   "id": "7a389d5a",
   "metadata": {},
   "source": [
    "## 1.1. INSPECTION OF DATA"
   ]
  },
  {
   "cell_type": "code",
   "execution_count": 35,
   "id": "b1afdf23",
   "metadata": {},
   "outputs": [
    {
     "data": {
      "text/html": [
       "<div>\n",
       "<style scoped>\n",
       "    .dataframe tbody tr th:only-of-type {\n",
       "        vertical-align: middle;\n",
       "    }\n",
       "\n",
       "    .dataframe tbody tr th {\n",
       "        vertical-align: top;\n",
       "    }\n",
       "\n",
       "    .dataframe thead tr th {\n",
       "        text-align: left;\n",
       "    }\n",
       "\n",
       "    .dataframe thead tr:last-of-type th {\n",
       "        text-align: right;\n",
       "    }\n",
       "</style>\n",
       "<table border=\"1\" class=\"dataframe\">\n",
       "  <thead>\n",
       "    <tr>\n",
       "      <th></th>\n",
       "      <th colspan=\"4\" halign=\"left\">TEXT</th>\n",
       "      <th colspan=\"4\" halign=\"left\">URL</th>\n",
       "      <th colspan=\"4\" halign=\"left\">EMAIL</th>\n",
       "      <th colspan=\"4\" halign=\"left\">PHONE</th>\n",
       "    </tr>\n",
       "    <tr>\n",
       "      <th></th>\n",
       "      <th>count</th>\n",
       "      <th>unique</th>\n",
       "      <th>top</th>\n",
       "      <th>freq</th>\n",
       "      <th>count</th>\n",
       "      <th>unique</th>\n",
       "      <th>top</th>\n",
       "      <th>freq</th>\n",
       "      <th>count</th>\n",
       "      <th>unique</th>\n",
       "      <th>top</th>\n",
       "      <th>freq</th>\n",
       "      <th>count</th>\n",
       "      <th>unique</th>\n",
       "      <th>top</th>\n",
       "      <th>freq</th>\n",
       "    </tr>\n",
       "    <tr>\n",
       "      <th>LABEL</th>\n",
       "      <th></th>\n",
       "      <th></th>\n",
       "      <th></th>\n",
       "      <th></th>\n",
       "      <th></th>\n",
       "      <th></th>\n",
       "      <th></th>\n",
       "      <th></th>\n",
       "      <th></th>\n",
       "      <th></th>\n",
       "      <th></th>\n",
       "      <th></th>\n",
       "      <th></th>\n",
       "      <th></th>\n",
       "      <th></th>\n",
       "      <th></th>\n",
       "    </tr>\n",
       "  </thead>\n",
       "  <tbody>\n",
       "    <tr>\n",
       "      <th>legit</th>\n",
       "      <td>4871</td>\n",
       "      <td>4858</td>\n",
       "      <td>Get 30 FREE minutes valid 72 Hrs by spending m...</td>\n",
       "      <td>2</td>\n",
       "      <td>4871</td>\n",
       "      <td>2</td>\n",
       "      <td>No</td>\n",
       "      <td>4863</td>\n",
       "      <td>4871</td>\n",
       "      <td>2</td>\n",
       "      <td>No</td>\n",
       "      <td>4870</td>\n",
       "      <td>4871</td>\n",
       "      <td>2</td>\n",
       "      <td>No</td>\n",
       "      <td>4837</td>\n",
       "    </tr>\n",
       "    <tr>\n",
       "      <th>smishing</th>\n",
       "      <td>1235</td>\n",
       "      <td>1220</td>\n",
       "      <td>Ndine AGENT Ndapasilidwa Ndalama Kuti Ndikutum...</td>\n",
       "      <td>2</td>\n",
       "      <td>1235</td>\n",
       "      <td>2</td>\n",
       "      <td>No</td>\n",
       "      <td>1036</td>\n",
       "      <td>1235</td>\n",
       "      <td>2</td>\n",
       "      <td>No</td>\n",
       "      <td>1217</td>\n",
       "      <td>1235</td>\n",
       "      <td>2</td>\n",
       "      <td>yes</td>\n",
       "      <td>862</td>\n",
       "    </tr>\n",
       "  </tbody>\n",
       "</table>\n",
       "</div>"
      ],
      "text/plain": [
       "          TEXT                                                                 \\\n",
       "         count unique                                                top freq   \n",
       "LABEL                                                                           \n",
       "legit     4871   4858  Get 30 FREE minutes valid 72 Hrs by spending m...    2   \n",
       "smishing  1235   1220  Ndine AGENT Ndapasilidwa Ndalama Kuti Ndikutum...    2   \n",
       "\n",
       "           URL                  EMAIL                  PHONE                    \n",
       "         count unique top  freq count unique top  freq count unique  top  freq  \n",
       "LABEL                                                                           \n",
       "legit     4871      2  No  4863  4871      2  No  4870  4871      2   No  4837  \n",
       "smishing  1235      2  No  1036  1235      2  No  1217  1235      2  yes   862  "
      ]
     },
     "execution_count": 35,
     "metadata": {},
     "output_type": "execute_result"
    }
   ],
   "source": [
    "dataset.groupby('LABEL').describe()"
   ]
  },
  {
   "cell_type": "code",
   "execution_count": 36,
   "id": "41f1c003",
   "metadata": {},
   "outputs": [
    {
     "data": {
      "text/html": [
       "<div>\n",
       "<style scoped>\n",
       "    .dataframe tbody tr th:only-of-type {\n",
       "        vertical-align: middle;\n",
       "    }\n",
       "\n",
       "    .dataframe tbody tr th {\n",
       "        vertical-align: top;\n",
       "    }\n",
       "\n",
       "    .dataframe thead tr th {\n",
       "        text-align: left;\n",
       "    }\n",
       "\n",
       "    .dataframe thead tr:last-of-type th {\n",
       "        text-align: right;\n",
       "    }\n",
       "</style>\n",
       "<table border=\"1\" class=\"dataframe\">\n",
       "  <thead>\n",
       "    <tr>\n",
       "      <th></th>\n",
       "      <th colspan=\"4\" halign=\"left\">LABEL</th>\n",
       "      <th colspan=\"4\" halign=\"left\">TEXT</th>\n",
       "      <th colspan=\"4\" halign=\"left\">EMAIL</th>\n",
       "      <th colspan=\"4\" halign=\"left\">PHONE</th>\n",
       "    </tr>\n",
       "    <tr>\n",
       "      <th></th>\n",
       "      <th>count</th>\n",
       "      <th>unique</th>\n",
       "      <th>top</th>\n",
       "      <th>freq</th>\n",
       "      <th>count</th>\n",
       "      <th>unique</th>\n",
       "      <th>top</th>\n",
       "      <th>freq</th>\n",
       "      <th>count</th>\n",
       "      <th>unique</th>\n",
       "      <th>top</th>\n",
       "      <th>freq</th>\n",
       "      <th>count</th>\n",
       "      <th>unique</th>\n",
       "      <th>top</th>\n",
       "      <th>freq</th>\n",
       "    </tr>\n",
       "    <tr>\n",
       "      <th>URL</th>\n",
       "      <th></th>\n",
       "      <th></th>\n",
       "      <th></th>\n",
       "      <th></th>\n",
       "      <th></th>\n",
       "      <th></th>\n",
       "      <th></th>\n",
       "      <th></th>\n",
       "      <th></th>\n",
       "      <th></th>\n",
       "      <th></th>\n",
       "      <th></th>\n",
       "      <th></th>\n",
       "      <th></th>\n",
       "      <th></th>\n",
       "      <th></th>\n",
       "    </tr>\n",
       "  </thead>\n",
       "  <tbody>\n",
       "    <tr>\n",
       "      <th>No</th>\n",
       "      <td>5899</td>\n",
       "      <td>2</td>\n",
       "      <td>legit</td>\n",
       "      <td>4863</td>\n",
       "      <td>5899</td>\n",
       "      <td>5873</td>\n",
       "      <td>You have 1 new voicemail. Please call 08719181...</td>\n",
       "      <td>2</td>\n",
       "      <td>5899</td>\n",
       "      <td>2</td>\n",
       "      <td>No</td>\n",
       "      <td>5883</td>\n",
       "      <td>5899</td>\n",
       "      <td>2</td>\n",
       "      <td>No</td>\n",
       "      <td>5081</td>\n",
       "    </tr>\n",
       "    <tr>\n",
       "      <th>yes</th>\n",
       "      <td>207</td>\n",
       "      <td>2</td>\n",
       "      <td>smishing</td>\n",
       "      <td>199</td>\n",
       "      <td>207</td>\n",
       "      <td>205</td>\n",
       "      <td>XXXMobileMovieClub: To use your credit, click ...</td>\n",
       "      <td>2</td>\n",
       "      <td>207</td>\n",
       "      <td>2</td>\n",
       "      <td>No</td>\n",
       "      <td>204</td>\n",
       "      <td>207</td>\n",
       "      <td>2</td>\n",
       "      <td>No</td>\n",
       "      <td>129</td>\n",
       "    </tr>\n",
       "  </tbody>\n",
       "</table>\n",
       "</div>"
      ],
      "text/plain": [
       "    LABEL                         TEXT         \\\n",
       "    count unique       top  freq count unique   \n",
       "URL                                             \n",
       "No   5899      2     legit  4863  5899   5873   \n",
       "yes   207      2  smishing   199   207    205   \n",
       "\n",
       "                                                            EMAIL             \\\n",
       "                                                   top freq count unique top   \n",
       "URL                                                                            \n",
       "No   You have 1 new voicemail. Please call 08719181...    2  5899      2  No   \n",
       "yes  XXXMobileMovieClub: To use your credit, click ...    2   207      2  No   \n",
       "\n",
       "          PHONE                   \n",
       "     freq count unique top  freq  \n",
       "URL                               \n",
       "No   5883  5899      2  No  5081  \n",
       "yes   204   207      2  No   129  "
      ]
     },
     "execution_count": 36,
     "metadata": {},
     "output_type": "execute_result"
    }
   ],
   "source": [
    "dataset.groupby('URL').describe()"
   ]
  },
  {
   "cell_type": "code",
   "execution_count": 37,
   "id": "19ce2b04",
   "metadata": {},
   "outputs": [
    {
     "data": {
      "text/html": [
       "<div>\n",
       "<style scoped>\n",
       "    .dataframe tbody tr th:only-of-type {\n",
       "        vertical-align: middle;\n",
       "    }\n",
       "\n",
       "    .dataframe tbody tr th {\n",
       "        vertical-align: top;\n",
       "    }\n",
       "\n",
       "    .dataframe thead tr th {\n",
       "        text-align: left;\n",
       "    }\n",
       "\n",
       "    .dataframe thead tr:last-of-type th {\n",
       "        text-align: right;\n",
       "    }\n",
       "</style>\n",
       "<table border=\"1\" class=\"dataframe\">\n",
       "  <thead>\n",
       "    <tr>\n",
       "      <th></th>\n",
       "      <th colspan=\"4\" halign=\"left\">LABEL</th>\n",
       "      <th colspan=\"4\" halign=\"left\">TEXT</th>\n",
       "      <th colspan=\"4\" halign=\"left\">URL</th>\n",
       "      <th colspan=\"4\" halign=\"left\">PHONE</th>\n",
       "    </tr>\n",
       "    <tr>\n",
       "      <th></th>\n",
       "      <th>count</th>\n",
       "      <th>unique</th>\n",
       "      <th>top</th>\n",
       "      <th>freq</th>\n",
       "      <th>count</th>\n",
       "      <th>unique</th>\n",
       "      <th>top</th>\n",
       "      <th>freq</th>\n",
       "      <th>count</th>\n",
       "      <th>unique</th>\n",
       "      <th>top</th>\n",
       "      <th>freq</th>\n",
       "      <th>count</th>\n",
       "      <th>unique</th>\n",
       "      <th>top</th>\n",
       "      <th>freq</th>\n",
       "    </tr>\n",
       "    <tr>\n",
       "      <th>EMAIL</th>\n",
       "      <th></th>\n",
       "      <th></th>\n",
       "      <th></th>\n",
       "      <th></th>\n",
       "      <th></th>\n",
       "      <th></th>\n",
       "      <th></th>\n",
       "      <th></th>\n",
       "      <th></th>\n",
       "      <th></th>\n",
       "      <th></th>\n",
       "      <th></th>\n",
       "      <th></th>\n",
       "      <th></th>\n",
       "      <th></th>\n",
       "      <th></th>\n",
       "    </tr>\n",
       "  </thead>\n",
       "  <tbody>\n",
       "    <tr>\n",
       "      <th>No</th>\n",
       "      <td>6087</td>\n",
       "      <td>2</td>\n",
       "      <td>legit</td>\n",
       "      <td>4870</td>\n",
       "      <td>6087</td>\n",
       "      <td>6059</td>\n",
       "      <td>Is there coming friday is leave for pongal?do ...</td>\n",
       "      <td>2</td>\n",
       "      <td>6087</td>\n",
       "      <td>2</td>\n",
       "      <td>No</td>\n",
       "      <td>5883</td>\n",
       "      <td>6087</td>\n",
       "      <td>2</td>\n",
       "      <td>No</td>\n",
       "      <td>5197</td>\n",
       "    </tr>\n",
       "    <tr>\n",
       "      <th>yes</th>\n",
       "      <td>19</td>\n",
       "      <td>2</td>\n",
       "      <td>smishing</td>\n",
       "      <td>18</td>\n",
       "      <td>19</td>\n",
       "      <td>19</td>\n",
       "      <td>tddnewsletter@emc1.co.uk (More games from TheD...</td>\n",
       "      <td>1</td>\n",
       "      <td>19</td>\n",
       "      <td>2</td>\n",
       "      <td>No</td>\n",
       "      <td>16</td>\n",
       "      <td>19</td>\n",
       "      <td>2</td>\n",
       "      <td>No</td>\n",
       "      <td>13</td>\n",
       "    </tr>\n",
       "  </tbody>\n",
       "</table>\n",
       "</div>"
      ],
      "text/plain": [
       "      LABEL                         TEXT         \\\n",
       "      count unique       top  freq count unique   \n",
       "EMAIL                                             \n",
       "No     6087      2     legit  4870  6087   6059   \n",
       "yes      19      2  smishing    18    19     19   \n",
       "\n",
       "                                                                URL         \\\n",
       "                                                     top freq count unique   \n",
       "EMAIL                                                                        \n",
       "No     Is there coming friday is leave for pongal?do ...    2  6087      2   \n",
       "yes    tddnewsletter@emc1.co.uk (More games from TheD...    1    19      2   \n",
       "\n",
       "                PHONE                   \n",
       "      top  freq count unique top  freq  \n",
       "EMAIL                                   \n",
       "No     No  5883  6087      2  No  5197  \n",
       "yes    No    16    19      2  No    13  "
      ]
     },
     "execution_count": 37,
     "metadata": {},
     "output_type": "execute_result"
    }
   ],
   "source": [
    "dataset.groupby('EMAIL').describe()"
   ]
  },
  {
   "cell_type": "code",
   "execution_count": 38,
   "id": "a27001ab",
   "metadata": {},
   "outputs": [
    {
     "data": {
      "text/html": [
       "<div>\n",
       "<style scoped>\n",
       "    .dataframe tbody tr th:only-of-type {\n",
       "        vertical-align: middle;\n",
       "    }\n",
       "\n",
       "    .dataframe tbody tr th {\n",
       "        vertical-align: top;\n",
       "    }\n",
       "\n",
       "    .dataframe thead tr th {\n",
       "        text-align: left;\n",
       "    }\n",
       "\n",
       "    .dataframe thead tr:last-of-type th {\n",
       "        text-align: right;\n",
       "    }\n",
       "</style>\n",
       "<table border=\"1\" class=\"dataframe\">\n",
       "  <thead>\n",
       "    <tr>\n",
       "      <th></th>\n",
       "      <th colspan=\"4\" halign=\"left\">LABEL</th>\n",
       "      <th colspan=\"4\" halign=\"left\">TEXT</th>\n",
       "      <th colspan=\"4\" halign=\"left\">URL</th>\n",
       "      <th colspan=\"4\" halign=\"left\">EMAIL</th>\n",
       "    </tr>\n",
       "    <tr>\n",
       "      <th></th>\n",
       "      <th>count</th>\n",
       "      <th>unique</th>\n",
       "      <th>top</th>\n",
       "      <th>freq</th>\n",
       "      <th>count</th>\n",
       "      <th>unique</th>\n",
       "      <th>top</th>\n",
       "      <th>freq</th>\n",
       "      <th>count</th>\n",
       "      <th>unique</th>\n",
       "      <th>top</th>\n",
       "      <th>freq</th>\n",
       "      <th>count</th>\n",
       "      <th>unique</th>\n",
       "      <th>top</th>\n",
       "      <th>freq</th>\n",
       "    </tr>\n",
       "    <tr>\n",
       "      <th>PHONE</th>\n",
       "      <th></th>\n",
       "      <th></th>\n",
       "      <th></th>\n",
       "      <th></th>\n",
       "      <th></th>\n",
       "      <th></th>\n",
       "      <th></th>\n",
       "      <th></th>\n",
       "      <th></th>\n",
       "      <th></th>\n",
       "      <th></th>\n",
       "      <th></th>\n",
       "      <th></th>\n",
       "      <th></th>\n",
       "      <th></th>\n",
       "      <th></th>\n",
       "    </tr>\n",
       "  </thead>\n",
       "  <tbody>\n",
       "    <tr>\n",
       "      <th>No</th>\n",
       "      <td>5210</td>\n",
       "      <td>2</td>\n",
       "      <td>legit</td>\n",
       "      <td>4837</td>\n",
       "      <td>5210</td>\n",
       "      <td>5197</td>\n",
       "      <td>The greatest test of courage on earth is to be...</td>\n",
       "      <td>2</td>\n",
       "      <td>5210</td>\n",
       "      <td>2</td>\n",
       "      <td>No</td>\n",
       "      <td>5081</td>\n",
       "      <td>5210</td>\n",
       "      <td>2</td>\n",
       "      <td>No</td>\n",
       "      <td>5197</td>\n",
       "    </tr>\n",
       "    <tr>\n",
       "      <th>yes</th>\n",
       "      <td>896</td>\n",
       "      <td>2</td>\n",
       "      <td>smishing</td>\n",
       "      <td>862</td>\n",
       "      <td>896</td>\n",
       "      <td>884</td>\n",
       "      <td>Had your mobile 11 months or more? U R entitle...</td>\n",
       "      <td>2</td>\n",
       "      <td>896</td>\n",
       "      <td>2</td>\n",
       "      <td>No</td>\n",
       "      <td>818</td>\n",
       "      <td>896</td>\n",
       "      <td>2</td>\n",
       "      <td>No</td>\n",
       "      <td>890</td>\n",
       "    </tr>\n",
       "  </tbody>\n",
       "</table>\n",
       "</div>"
      ],
      "text/plain": [
       "      LABEL                         TEXT         \\\n",
       "      count unique       top  freq count unique   \n",
       "PHONE                                             \n",
       "No     5210      2     legit  4837  5210   5197   \n",
       "yes     896      2  smishing   862   896    884   \n",
       "\n",
       "                                                                URL         \\\n",
       "                                                     top freq count unique   \n",
       "PHONE                                                                        \n",
       "No     The greatest test of courage on earth is to be...    2  5210      2   \n",
       "yes    Had your mobile 11 months or more? U R entitle...    2   896      2   \n",
       "\n",
       "                EMAIL                   \n",
       "      top  freq count unique top  freq  \n",
       "PHONE                                   \n",
       "No     No  5081  5210      2  No  5197  \n",
       "yes    No   818   896      2  No   890  "
      ]
     },
     "execution_count": 38,
     "metadata": {},
     "output_type": "execute_result"
    }
   ],
   "source": [
    "dataset.groupby('PHONE').describe()"
   ]
  },
  {
   "cell_type": "markdown",
   "id": "b6141e1e",
   "metadata": {},
   "source": [
    "## 2. DATA CLEANING\n",
    "        Checking for missing values\n",
    "        Checking for duplicate values\n",
    "        Removing duplicates\n",
    "        Droping unwanted columns\n",
    "        Renaming columns\n",
    "        Converting target values into numerical values"
   ]
  },
  {
   "cell_type": "code",
   "execution_count": 39,
   "id": "31f73c07",
   "metadata": {},
   "outputs": [
    {
     "name": "stdout",
     "output_type": "stream",
     "text": [
      "<class 'pandas.core.frame.DataFrame'>\n",
      "RangeIndex: 6106 entries, 0 to 6105\n",
      "Data columns (total 5 columns):\n",
      " #   Column  Non-Null Count  Dtype \n",
      "---  ------  --------------  ----- \n",
      " 0   LABEL   6106 non-null   object\n",
      " 1   TEXT    6106 non-null   object\n",
      " 2   URL     6106 non-null   object\n",
      " 3   EMAIL   6106 non-null   object\n",
      " 4   PHONE   6106 non-null   object\n",
      "dtypes: object(5)\n",
      "memory usage: 238.6+ KB\n"
     ]
    }
   ],
   "source": [
    "dataset.info()"
   ]
  },
  {
   "cell_type": "code",
   "execution_count": 40,
   "id": "4f4f7eee",
   "metadata": {},
   "outputs": [
    {
     "data": {
      "text/plain": [
       "LABEL    0\n",
       "TEXT     0\n",
       "URL      0\n",
       "EMAIL    0\n",
       "PHONE    0\n",
       "dtype: int64"
      ]
     },
     "execution_count": 40,
     "metadata": {},
     "output_type": "execute_result"
    }
   ],
   "source": [
    "#Missing values\n",
    "dataset.isnull().sum()"
   ]
  },
  {
   "cell_type": "code",
   "execution_count": 41,
   "id": "652e8f55",
   "metadata": {},
   "outputs": [
    {
     "data": {
      "text/plain": [
       "25"
      ]
     },
     "execution_count": 41,
     "metadata": {},
     "output_type": "execute_result"
    }
   ],
   "source": [
    "# Check for duplicate values\n",
    "dataset.duplicated().sum()"
   ]
  },
  {
   "cell_type": "code",
   "execution_count": 42,
   "id": "2ea49cf5",
   "metadata": {},
   "outputs": [],
   "source": [
    "# Remove dulicates\n",
    "dataset = dataset.drop_duplicates(keep = 'first')"
   ]
  },
  {
   "cell_type": "code",
   "execution_count": 43,
   "id": "35430625",
   "metadata": {},
   "outputs": [
    {
     "data": {
      "text/plain": [
       "0"
      ]
     },
     "execution_count": 43,
     "metadata": {},
     "output_type": "execute_result"
    }
   ],
   "source": [
    "dataset.duplicated().sum()"
   ]
  },
  {
   "cell_type": "code",
   "execution_count": 44,
   "id": "ce1bbd8a",
   "metadata": {},
   "outputs": [
    {
     "data": {
      "text/plain": [
       "(6081, 5)"
      ]
     },
     "execution_count": 44,
     "metadata": {},
     "output_type": "execute_result"
    }
   ],
   "source": [
    "dataset.shape"
   ]
  },
  {
   "cell_type": "code",
   "execution_count": 45,
   "id": "9874f9bb",
   "metadata": {},
   "outputs": [],
   "source": [
    "# Drop last 3 columns\n",
    "dataset.drop(columns = ['URL', 'EMAIL', 'PHONE'], inplace = True)"
   ]
  },
  {
   "cell_type": "code",
   "execution_count": 46,
   "id": "18816cde",
   "metadata": {},
   "outputs": [
    {
     "data": {
      "text/html": [
       "<div>\n",
       "<style scoped>\n",
       "    .dataframe tbody tr th:only-of-type {\n",
       "        vertical-align: middle;\n",
       "    }\n",
       "\n",
       "    .dataframe tbody tr th {\n",
       "        vertical-align: top;\n",
       "    }\n",
       "\n",
       "    .dataframe thead th {\n",
       "        text-align: right;\n",
       "    }\n",
       "</style>\n",
       "<table border=\"1\" class=\"dataframe\">\n",
       "  <thead>\n",
       "    <tr style=\"text-align: right;\">\n",
       "      <th></th>\n",
       "      <th>LABEL</th>\n",
       "      <th>TEXT</th>\n",
       "    </tr>\n",
       "  </thead>\n",
       "  <tbody>\n",
       "    <tr>\n",
       "      <th>0</th>\n",
       "      <td>legit</td>\n",
       "      <td>Your opinion about me? 1. Over 2. Jada 3. Kusr...</td>\n",
       "    </tr>\n",
       "    <tr>\n",
       "      <th>1</th>\n",
       "      <td>legit</td>\n",
       "      <td>What's up? Do you want me to come online? If y...</td>\n",
       "    </tr>\n",
       "    <tr>\n",
       "      <th>2</th>\n",
       "      <td>legit</td>\n",
       "      <td>So u workin overtime nigpun?</td>\n",
       "    </tr>\n",
       "    <tr>\n",
       "      <th>3</th>\n",
       "      <td>legit</td>\n",
       "      <td>Also sir, i sent you an email about how to log...</td>\n",
       "    </tr>\n",
       "    <tr>\n",
       "      <th>4</th>\n",
       "      <td>smishing</td>\n",
       "      <td>Please Stay At Home. To encourage the notion o...</td>\n",
       "    </tr>\n",
       "    <tr>\n",
       "      <th>...</th>\n",
       "      <td>...</td>\n",
       "      <td>...</td>\n",
       "    </tr>\n",
       "    <tr>\n",
       "      <th>6101</th>\n",
       "      <td>legit</td>\n",
       "      <td>Madera ambiri akuzizira m'Malawi muno, yimbani...</td>\n",
       "    </tr>\n",
       "    <tr>\n",
       "      <th>6102</th>\n",
       "      <td>legit</td>\n",
       "      <td>Tiketi imodzi YAULELE ya MK500 ikudikila inu 8...</td>\n",
       "    </tr>\n",
       "    <tr>\n",
       "      <th>6103</th>\n",
       "      <td>legit</td>\n",
       "      <td>Pezani mwayi opata mphoto yokwana MK5Mil ndiku...</td>\n",
       "    </tr>\n",
       "    <tr>\n",
       "      <th>6104</th>\n",
       "      <td>legit</td>\n",
       "      <td>Unduna wa za Umoyo ukulimbikitsa inu kukalandi...</td>\n",
       "    </tr>\n",
       "    <tr>\n",
       "      <th>6105</th>\n",
       "      <td>legit</td>\n",
       "      <td>Unduna wa za umoyo ukukulimbikitsani kuti muka...</td>\n",
       "    </tr>\n",
       "  </tbody>\n",
       "</table>\n",
       "<p>6081 rows × 2 columns</p>\n",
       "</div>"
      ],
      "text/plain": [
       "         LABEL                                               TEXT\n",
       "0        legit  Your opinion about me? 1. Over 2. Jada 3. Kusr...\n",
       "1        legit  What's up? Do you want me to come online? If y...\n",
       "2        legit                       So u workin overtime nigpun?\n",
       "3        legit  Also sir, i sent you an email about how to log...\n",
       "4     smishing  Please Stay At Home. To encourage the notion o...\n",
       "...        ...                                                ...\n",
       "6101     legit  Madera ambiri akuzizira m'Malawi muno, yimbani...\n",
       "6102     legit  Tiketi imodzi YAULELE ya MK500 ikudikila inu 8...\n",
       "6103     legit  Pezani mwayi opata mphoto yokwana MK5Mil ndiku...\n",
       "6104     legit  Unduna wa za Umoyo ukulimbikitsa inu kukalandi...\n",
       "6105     legit  Unduna wa za umoyo ukukulimbikitsani kuti muka...\n",
       "\n",
       "[6081 rows x 2 columns]"
      ]
     },
     "execution_count": 46,
     "metadata": {},
     "output_type": "execute_result"
    }
   ],
   "source": [
    "dataset"
   ]
  },
  {
   "cell_type": "code",
   "execution_count": 47,
   "id": "9eea0939",
   "metadata": {},
   "outputs": [],
   "source": [
    "# Renaming the columns\n",
    "dataset.rename(columns = {'LABEL' : 'target', 'TEXT' : 'message'}, inplace = True)"
   ]
  },
  {
   "cell_type": "code",
   "execution_count": 48,
   "id": "d48ecb06",
   "metadata": {},
   "outputs": [
    {
     "data": {
      "text/html": [
       "<div>\n",
       "<style scoped>\n",
       "    .dataframe tbody tr th:only-of-type {\n",
       "        vertical-align: middle;\n",
       "    }\n",
       "\n",
       "    .dataframe tbody tr th {\n",
       "        vertical-align: top;\n",
       "    }\n",
       "\n",
       "    .dataframe thead th {\n",
       "        text-align: right;\n",
       "    }\n",
       "</style>\n",
       "<table border=\"1\" class=\"dataframe\">\n",
       "  <thead>\n",
       "    <tr style=\"text-align: right;\">\n",
       "      <th></th>\n",
       "      <th>target</th>\n",
       "      <th>message</th>\n",
       "    </tr>\n",
       "  </thead>\n",
       "  <tbody>\n",
       "    <tr>\n",
       "      <th>0</th>\n",
       "      <td>legit</td>\n",
       "      <td>Your opinion about me? 1. Over 2. Jada 3. Kusr...</td>\n",
       "    </tr>\n",
       "    <tr>\n",
       "      <th>1</th>\n",
       "      <td>legit</td>\n",
       "      <td>What's up? Do you want me to come online? If y...</td>\n",
       "    </tr>\n",
       "    <tr>\n",
       "      <th>2</th>\n",
       "      <td>legit</td>\n",
       "      <td>So u workin overtime nigpun?</td>\n",
       "    </tr>\n",
       "    <tr>\n",
       "      <th>3</th>\n",
       "      <td>legit</td>\n",
       "      <td>Also sir, i sent you an email about how to log...</td>\n",
       "    </tr>\n",
       "    <tr>\n",
       "      <th>4</th>\n",
       "      <td>smishing</td>\n",
       "      <td>Please Stay At Home. To encourage the notion o...</td>\n",
       "    </tr>\n",
       "    <tr>\n",
       "      <th>...</th>\n",
       "      <td>...</td>\n",
       "      <td>...</td>\n",
       "    </tr>\n",
       "    <tr>\n",
       "      <th>6101</th>\n",
       "      <td>legit</td>\n",
       "      <td>Madera ambiri akuzizira m'Malawi muno, yimbani...</td>\n",
       "    </tr>\n",
       "    <tr>\n",
       "      <th>6102</th>\n",
       "      <td>legit</td>\n",
       "      <td>Tiketi imodzi YAULELE ya MK500 ikudikila inu 8...</td>\n",
       "    </tr>\n",
       "    <tr>\n",
       "      <th>6103</th>\n",
       "      <td>legit</td>\n",
       "      <td>Pezani mwayi opata mphoto yokwana MK5Mil ndiku...</td>\n",
       "    </tr>\n",
       "    <tr>\n",
       "      <th>6104</th>\n",
       "      <td>legit</td>\n",
       "      <td>Unduna wa za Umoyo ukulimbikitsa inu kukalandi...</td>\n",
       "    </tr>\n",
       "    <tr>\n",
       "      <th>6105</th>\n",
       "      <td>legit</td>\n",
       "      <td>Unduna wa za umoyo ukukulimbikitsani kuti muka...</td>\n",
       "    </tr>\n",
       "  </tbody>\n",
       "</table>\n",
       "<p>6081 rows × 2 columns</p>\n",
       "</div>"
      ],
      "text/plain": [
       "        target                                            message\n",
       "0        legit  Your opinion about me? 1. Over 2. Jada 3. Kusr...\n",
       "1        legit  What's up? Do you want me to come online? If y...\n",
       "2        legit                       So u workin overtime nigpun?\n",
       "3        legit  Also sir, i sent you an email about how to log...\n",
       "4     smishing  Please Stay At Home. To encourage the notion o...\n",
       "...        ...                                                ...\n",
       "6101     legit  Madera ambiri akuzizira m'Malawi muno, yimbani...\n",
       "6102     legit  Tiketi imodzi YAULELE ya MK500 ikudikila inu 8...\n",
       "6103     legit  Pezani mwayi opata mphoto yokwana MK5Mil ndiku...\n",
       "6104     legit  Unduna wa za Umoyo ukulimbikitsa inu kukalandi...\n",
       "6105     legit  Unduna wa za umoyo ukukulimbikitsani kuti muka...\n",
       "\n",
       "[6081 rows x 2 columns]"
      ]
     },
     "execution_count": 48,
     "metadata": {},
     "output_type": "execute_result"
    }
   ],
   "source": [
    "dataset"
   ]
  },
  {
   "cell_type": "code",
   "execution_count": 49,
   "id": "66a1b405",
   "metadata": {},
   "outputs": [],
   "source": [
    "#Converting the target into numerical values\n",
    "#Label smishing message as 1; legit message as 0;\n",
    "\n",
    "#We can use the two methods below to turn the target into numerical values\n",
    "\n",
    "#dataset.loc[df['target'] == 'legit', 'target',] = 0\n",
    "#dataset.loc[df['target'] == 'smishing', 'target',] = 1\n",
    "\n",
    "from sklearn.preprocessing import LabelEncoder\n",
    "encoder = LabelEncoder()"
   ]
  },
  {
   "cell_type": "code",
   "execution_count": 50,
   "id": "76d4f21b",
   "metadata": {},
   "outputs": [
    {
     "data": {
      "text/plain": [
       "array([0, 0, 0, ..., 0, 0, 0])"
      ]
     },
     "execution_count": 50,
     "metadata": {},
     "output_type": "execute_result"
    }
   ],
   "source": [
    "encoder.fit_transform(dataset['target'])"
   ]
  },
  {
   "cell_type": "code",
   "execution_count": 51,
   "id": "db7cb29b",
   "metadata": {},
   "outputs": [],
   "source": [
    "dataset['target'] = encoder.fit_transform(dataset['target'])"
   ]
  },
  {
   "cell_type": "code",
   "execution_count": 52,
   "id": "48ab7bcd",
   "metadata": {},
   "outputs": [
    {
     "data": {
      "text/html": [
       "<div>\n",
       "<style scoped>\n",
       "    .dataframe tbody tr th:only-of-type {\n",
       "        vertical-align: middle;\n",
       "    }\n",
       "\n",
       "    .dataframe tbody tr th {\n",
       "        vertical-align: top;\n",
       "    }\n",
       "\n",
       "    .dataframe thead th {\n",
       "        text-align: right;\n",
       "    }\n",
       "</style>\n",
       "<table border=\"1\" class=\"dataframe\">\n",
       "  <thead>\n",
       "    <tr style=\"text-align: right;\">\n",
       "      <th></th>\n",
       "      <th>target</th>\n",
       "      <th>message</th>\n",
       "    </tr>\n",
       "  </thead>\n",
       "  <tbody>\n",
       "    <tr>\n",
       "      <th>0</th>\n",
       "      <td>0</td>\n",
       "      <td>Your opinion about me? 1. Over 2. Jada 3. Kusr...</td>\n",
       "    </tr>\n",
       "    <tr>\n",
       "      <th>1</th>\n",
       "      <td>0</td>\n",
       "      <td>What's up? Do you want me to come online? If y...</td>\n",
       "    </tr>\n",
       "    <tr>\n",
       "      <th>2</th>\n",
       "      <td>0</td>\n",
       "      <td>So u workin overtime nigpun?</td>\n",
       "    </tr>\n",
       "    <tr>\n",
       "      <th>3</th>\n",
       "      <td>0</td>\n",
       "      <td>Also sir, i sent you an email about how to log...</td>\n",
       "    </tr>\n",
       "    <tr>\n",
       "      <th>4</th>\n",
       "      <td>1</td>\n",
       "      <td>Please Stay At Home. To encourage the notion o...</td>\n",
       "    </tr>\n",
       "    <tr>\n",
       "      <th>...</th>\n",
       "      <td>...</td>\n",
       "      <td>...</td>\n",
       "    </tr>\n",
       "    <tr>\n",
       "      <th>6101</th>\n",
       "      <td>0</td>\n",
       "      <td>Madera ambiri akuzizira m'Malawi muno, yimbani...</td>\n",
       "    </tr>\n",
       "    <tr>\n",
       "      <th>6102</th>\n",
       "      <td>0</td>\n",
       "      <td>Tiketi imodzi YAULELE ya MK500 ikudikila inu 8...</td>\n",
       "    </tr>\n",
       "    <tr>\n",
       "      <th>6103</th>\n",
       "      <td>0</td>\n",
       "      <td>Pezani mwayi opata mphoto yokwana MK5Mil ndiku...</td>\n",
       "    </tr>\n",
       "    <tr>\n",
       "      <th>6104</th>\n",
       "      <td>0</td>\n",
       "      <td>Unduna wa za Umoyo ukulimbikitsa inu kukalandi...</td>\n",
       "    </tr>\n",
       "    <tr>\n",
       "      <th>6105</th>\n",
       "      <td>0</td>\n",
       "      <td>Unduna wa za umoyo ukukulimbikitsani kuti muka...</td>\n",
       "    </tr>\n",
       "  </tbody>\n",
       "</table>\n",
       "<p>6081 rows × 2 columns</p>\n",
       "</div>"
      ],
      "text/plain": [
       "      target                                            message\n",
       "0          0  Your opinion about me? 1. Over 2. Jada 3. Kusr...\n",
       "1          0  What's up? Do you want me to come online? If y...\n",
       "2          0                       So u workin overtime nigpun?\n",
       "3          0  Also sir, i sent you an email about how to log...\n",
       "4          1  Please Stay At Home. To encourage the notion o...\n",
       "...      ...                                                ...\n",
       "6101       0  Madera ambiri akuzizira m'Malawi muno, yimbani...\n",
       "6102       0  Tiketi imodzi YAULELE ya MK500 ikudikila inu 8...\n",
       "6103       0  Pezani mwayi opata mphoto yokwana MK5Mil ndiku...\n",
       "6104       0  Unduna wa za Umoyo ukulimbikitsa inu kukalandi...\n",
       "6105       0  Unduna wa za umoyo ukukulimbikitsani kuti muka...\n",
       "\n",
       "[6081 rows x 2 columns]"
      ]
     },
     "execution_count": 52,
     "metadata": {},
     "output_type": "execute_result"
    }
   ],
   "source": [
    "dataset"
   ]
  },
  {
   "cell_type": "code",
   "execution_count": 53,
   "id": "1cc7c932",
   "metadata": {},
   "outputs": [
    {
     "data": {
      "text/plain": [
       "(6081, 2)"
      ]
     },
     "execution_count": 53,
     "metadata": {},
     "output_type": "execute_result"
    }
   ],
   "source": [
    "dataset.shape"
   ]
  },
  {
   "cell_type": "markdown",
   "id": "475e94de",
   "metadata": {},
   "source": [
    "## 3. EXPLORATORY DATA ANALYSIS"
   ]
  },
  {
   "cell_type": "code",
   "execution_count": 54,
   "id": "b5e7005d",
   "metadata": {},
   "outputs": [
    {
     "data": {
      "text/plain": [
       "0    4858\n",
       "1    1223\n",
       "Name: target, dtype: int64"
      ]
     },
     "execution_count": 54,
     "metadata": {},
     "output_type": "execute_result"
    }
   ],
   "source": [
    "dataset['target'].value_counts()"
   ]
  },
  {
   "cell_type": "code",
   "execution_count": 55,
   "id": "23a12071",
   "metadata": {},
   "outputs": [
    {
     "name": "stderr",
     "output_type": "stream",
     "text": [
      "Matplotlib is building the font cache; this may take a moment.\n"
     ]
    },
    {
     "data": {
      "text/plain": [
       "([<matplotlib.patches.Wedge at 0x1e91e3eea30>,\n",
       "  <matplotlib.patches.Wedge at 0x1e91ea92160>],\n",
       " [Text(-0.8876418119058163, 0.649686088627854, 'legit'),\n",
       "  Text(0.8876418119058165, -0.6496860886278537, 'smishing')],\n",
       " [Text(-0.48416826103953603, 0.3543742301606476, '79.89'),\n",
       "  Text(0.4841682610395362, -0.35437423016064745, '20.11')])"
      ]
     },
     "execution_count": 55,
     "metadata": {},
     "output_type": "execute_result"
    },
    {
     "data": {
      "image/png": "[encoded data removed]",
      "text/plain": [
       "<Figure size 432x288 with 1 Axes>"
      ]
     },
     "metadata": {},
     "output_type": "display_data"
    }
   ],
   "source": [
    "import matplotlib.pyplot as plt\n",
    "plt.pie(dataset['target'].value_counts(), labels = ['legit', 'smishing'], autopct = \"%0.2f\")"
   ]
  },
  {
   "cell_type": "code",
   "execution_count": 61,
   "id": "526d2529",
   "metadata": {},
   "outputs": [],
   "source": [
    "import nltk"
   ]
  },
  {
   "cell_type": "code",
   "execution_count": 62,
   "id": "d6f814bd",
   "metadata": {},
   "outputs": [
    {
     "name": "stdout",
     "output_type": "stream",
     "text": [
      "Requirement already satisfied: nltk in c:\\users\\simeon.a.mataka\\anaconda3\\lib\\site-packages (3.6.1)\n",
      "Requirement already satisfied: joblib in c:\\users\\simeon.a.mataka\\anaconda3\\lib\\site-packages (from nltk) (1.0.1)\n",
      "Requirement already satisfied: click in c:\\users\\simeon.a.mataka\\anaconda3\\lib\\site-packages (from nltk) (7.1.2)\n",
      "Requirement already satisfied: regex in c:\\users\\simeon.a.mataka\\anaconda3\\lib\\site-packages (from nltk) (2021.4.4)\n",
      "Requirement already satisfied: tqdm in c:\\users\\simeon.a.mataka\\anaconda3\\lib\\site-packages (from nltk) (4.59.0)\n"
     ]
    }
   ],
   "source": [
    "!pip install nltk"
   ]
  },
  {
   "cell_type": "code",
   "execution_count": 66,
   "id": "ab12928c",
   "metadata": {},
   "outputs": [
    {
     "name": "stderr",
     "output_type": "stream",
     "text": [
      "[nltk_data] Downloading package punkt to\n",
      "[nltk_data]     C:\\Users\\SIMEON.A.MATAKA\\AppData\\Roaming\\nltk_data...\n",
      "[nltk_data]   Unzipping tokenizers\\punkt.zip.\n"
     ]
    },
    {
     "data": {
      "text/plain": [
       "True"
      ]
     },
     "execution_count": 66,
     "metadata": {},
     "output_type": "execute_result"
    }
   ],
   "source": [
    " nltk.download('punkt')"
   ]
  },
  {
   "cell_type": "code",
   "execution_count": 67,
   "id": "a9cb4670",
   "metadata": {},
   "outputs": [],
   "source": [
    "#Finding the length of texts\n",
    "dataset['num_characters'] = dataset['message'].apply(len)"
   ]
  },
  {
   "cell_type": "code",
   "execution_count": 68,
   "id": "f427622a",
   "metadata": {},
   "outputs": [
    {
     "data": {
      "text/html": [
       "<div>\n",
       "<style scoped>\n",
       "    .dataframe tbody tr th:only-of-type {\n",
       "        vertical-align: middle;\n",
       "    }\n",
       "\n",
       "    .dataframe tbody tr th {\n",
       "        vertical-align: top;\n",
       "    }\n",
       "\n",
       "    .dataframe thead th {\n",
       "        text-align: right;\n",
       "    }\n",
       "</style>\n",
       "<table border=\"1\" class=\"dataframe\">\n",
       "  <thead>\n",
       "    <tr style=\"text-align: right;\">\n",
       "      <th></th>\n",
       "      <th>target</th>\n",
       "      <th>message</th>\n",
       "      <th>num_characters</th>\n",
       "    </tr>\n",
       "  </thead>\n",
       "  <tbody>\n",
       "    <tr>\n",
       "      <th>0</th>\n",
       "      <td>0</td>\n",
       "      <td>Your opinion about me? 1. Over 2. Jada 3. Kusr...</td>\n",
       "      <td>136</td>\n",
       "    </tr>\n",
       "    <tr>\n",
       "      <th>1</th>\n",
       "      <td>0</td>\n",
       "      <td>What's up? Do you want me to come online? If y...</td>\n",
       "      <td>79</td>\n",
       "    </tr>\n",
       "    <tr>\n",
       "      <th>2</th>\n",
       "      <td>0</td>\n",
       "      <td>So u workin overtime nigpun?</td>\n",
       "      <td>28</td>\n",
       "    </tr>\n",
       "    <tr>\n",
       "      <th>3</th>\n",
       "      <td>0</td>\n",
       "      <td>Also sir, i sent you an email about how to log...</td>\n",
       "      <td>173</td>\n",
       "    </tr>\n",
       "    <tr>\n",
       "      <th>4</th>\n",
       "      <td>1</td>\n",
       "      <td>Please Stay At Home. To encourage the notion o...</td>\n",
       "      <td>152</td>\n",
       "    </tr>\n",
       "  </tbody>\n",
       "</table>\n",
       "</div>"
      ],
      "text/plain": [
       "   target                                            message  num_characters\n",
       "0       0  Your opinion about me? 1. Over 2. Jada 3. Kusr...             136\n",
       "1       0  What's up? Do you want me to come online? If y...              79\n",
       "2       0                       So u workin overtime nigpun?              28\n",
       "3       0  Also sir, i sent you an email about how to log...             173\n",
       "4       1  Please Stay At Home. To encourage the notion o...             152"
      ]
     },
     "execution_count": 68,
     "metadata": {},
     "output_type": "execute_result"
    }
   ],
   "source": [
    "dataset.head()"
   ]
  },
  {
   "cell_type": "code",
   "execution_count": 69,
   "id": "7ad0d874",
   "metadata": {},
   "outputs": [],
   "source": [
    "# num of words\n",
    "dataset['num_of_words'] = dataset['message'].apply(lambda x:len(nltk.word_tokenize(x)))"
   ]
  },
  {
   "cell_type": "code",
   "execution_count": 70,
   "id": "c7d0432d",
   "metadata": {},
   "outputs": [
    {
     "data": {
      "text/html": [
       "<div>\n",
       "<style scoped>\n",
       "    .dataframe tbody tr th:only-of-type {\n",
       "        vertical-align: middle;\n",
       "    }\n",
       "\n",
       "    .dataframe tbody tr th {\n",
       "        vertical-align: top;\n",
       "    }\n",
       "\n",
       "    .dataframe thead th {\n",
       "        text-align: right;\n",
       "    }\n",
       "</style>\n",
       "<table border=\"1\" class=\"dataframe\">\n",
       "  <thead>\n",
       "    <tr style=\"text-align: right;\">\n",
       "      <th></th>\n",
       "      <th>target</th>\n",
       "      <th>message</th>\n",
       "      <th>num_characters</th>\n",
       "      <th>num_of_words</th>\n",
       "    </tr>\n",
       "  </thead>\n",
       "  <tbody>\n",
       "    <tr>\n",
       "      <th>0</th>\n",
       "      <td>0</td>\n",
       "      <td>Your opinion about me? 1. Over 2. Jada 3. Kusr...</td>\n",
       "      <td>136</td>\n",
       "      <td>37</td>\n",
       "    </tr>\n",
       "    <tr>\n",
       "      <th>1</th>\n",
       "      <td>0</td>\n",
       "      <td>What's up? Do you want me to come online? If y...</td>\n",
       "      <td>79</td>\n",
       "      <td>20</td>\n",
       "    </tr>\n",
       "    <tr>\n",
       "      <th>2</th>\n",
       "      <td>0</td>\n",
       "      <td>So u workin overtime nigpun?</td>\n",
       "      <td>28</td>\n",
       "      <td>6</td>\n",
       "    </tr>\n",
       "    <tr>\n",
       "      <th>3</th>\n",
       "      <td>0</td>\n",
       "      <td>Also sir, i sent you an email about how to log...</td>\n",
       "      <td>173</td>\n",
       "      <td>37</td>\n",
       "    </tr>\n",
       "    <tr>\n",
       "      <th>4</th>\n",
       "      <td>1</td>\n",
       "      <td>Please Stay At Home. To encourage the notion o...</td>\n",
       "      <td>152</td>\n",
       "      <td>27</td>\n",
       "    </tr>\n",
       "  </tbody>\n",
       "</table>\n",
       "</div>"
      ],
      "text/plain": [
       "   target                                            message  num_characters  \\\n",
       "0       0  Your opinion about me? 1. Over 2. Jada 3. Kusr...             136   \n",
       "1       0  What's up? Do you want me to come online? If y...              79   \n",
       "2       0                       So u workin overtime nigpun?              28   \n",
       "3       0  Also sir, i sent you an email about how to log...             173   \n",
       "4       1  Please Stay At Home. To encourage the notion o...             152   \n",
       "\n",
       "   num_of_words  \n",
       "0            37  \n",
       "1            20  \n",
       "2             6  \n",
       "3            37  \n",
       "4            27  "
      ]
     },
     "execution_count": 70,
     "metadata": {},
     "output_type": "execute_result"
    }
   ],
   "source": [
    "dataset.head()"
   ]
  },
  {
   "cell_type": "code",
   "execution_count": 71,
   "id": "195a0f8c",
   "metadata": {},
   "outputs": [],
   "source": [
    "#num of sentences\n",
    "dataset['num_sentences'] = dataset['message'].apply(lambda x:len(nltk.sent_tokenize(x)))"
   ]
  },
  {
   "cell_type": "code",
   "execution_count": 72,
   "id": "28dbfb7e",
   "metadata": {},
   "outputs": [
    {
     "data": {
      "text/html": [
       "<div>\n",
       "<style scoped>\n",
       "    .dataframe tbody tr th:only-of-type {\n",
       "        vertical-align: middle;\n",
       "    }\n",
       "\n",
       "    .dataframe tbody tr th {\n",
       "        vertical-align: top;\n",
       "    }\n",
       "\n",
       "    .dataframe thead th {\n",
       "        text-align: right;\n",
       "    }\n",
       "</style>\n",
       "<table border=\"1\" class=\"dataframe\">\n",
       "  <thead>\n",
       "    <tr style=\"text-align: right;\">\n",
       "      <th></th>\n",
       "      <th>target</th>\n",
       "      <th>message</th>\n",
       "      <th>num_characters</th>\n",
       "      <th>num_of_words</th>\n",
       "      <th>num_sentences</th>\n",
       "    </tr>\n",
       "  </thead>\n",
       "  <tbody>\n",
       "    <tr>\n",
       "      <th>0</th>\n",
       "      <td>0</td>\n",
       "      <td>Your opinion about me? 1. Over 2. Jada 3. Kusr...</td>\n",
       "      <td>136</td>\n",
       "      <td>37</td>\n",
       "      <td>11</td>\n",
       "    </tr>\n",
       "    <tr>\n",
       "      <th>1</th>\n",
       "      <td>0</td>\n",
       "      <td>What's up? Do you want me to come online? If y...</td>\n",
       "      <td>79</td>\n",
       "      <td>20</td>\n",
       "      <td>3</td>\n",
       "    </tr>\n",
       "    <tr>\n",
       "      <th>2</th>\n",
       "      <td>0</td>\n",
       "      <td>So u workin overtime nigpun?</td>\n",
       "      <td>28</td>\n",
       "      <td>6</td>\n",
       "      <td>1</td>\n",
       "    </tr>\n",
       "    <tr>\n",
       "      <th>3</th>\n",
       "      <td>0</td>\n",
       "      <td>Also sir, i sent you an email about how to log...</td>\n",
       "      <td>173</td>\n",
       "      <td>37</td>\n",
       "      <td>3</td>\n",
       "    </tr>\n",
       "    <tr>\n",
       "      <th>4</th>\n",
       "      <td>1</td>\n",
       "      <td>Please Stay At Home. To encourage the notion o...</td>\n",
       "      <td>152</td>\n",
       "      <td>27</td>\n",
       "      <td>4</td>\n",
       "    </tr>\n",
       "  </tbody>\n",
       "</table>\n",
       "</div>"
      ],
      "text/plain": [
       "   target                                            message  num_characters  \\\n",
       "0       0  Your opinion about me? 1. Over 2. Jada 3. Kusr...             136   \n",
       "1       0  What's up? Do you want me to come online? If y...              79   \n",
       "2       0                       So u workin overtime nigpun?              28   \n",
       "3       0  Also sir, i sent you an email about how to log...             173   \n",
       "4       1  Please Stay At Home. To encourage the notion o...             152   \n",
       "\n",
       "   num_of_words  num_sentences  \n",
       "0            37             11  \n",
       "1            20              3  \n",
       "2             6              1  \n",
       "3            37              3  \n",
       "4            27              4  "
      ]
     },
     "execution_count": 72,
     "metadata": {},
     "output_type": "execute_result"
    }
   ],
   "source": [
    "dataset.head()"
   ]
  },
  {
   "cell_type": "code",
   "execution_count": 73,
   "id": "a3d4c4c8",
   "metadata": {},
   "outputs": [
    {
     "data": {
      "text/html": [
       "<div>\n",
       "<style scoped>\n",
       "    .dataframe tbody tr th:only-of-type {\n",
       "        vertical-align: middle;\n",
       "    }\n",
       "\n",
       "    .dataframe tbody tr th {\n",
       "        vertical-align: top;\n",
       "    }\n",
       "\n",
       "    .dataframe thead th {\n",
       "        text-align: right;\n",
       "    }\n",
       "</style>\n",
       "<table border=\"1\" class=\"dataframe\">\n",
       "  <thead>\n",
       "    <tr style=\"text-align: right;\">\n",
       "      <th></th>\n",
       "      <th>num_characters</th>\n",
       "      <th>num_of_words</th>\n",
       "      <th>num_sentences</th>\n",
       "    </tr>\n",
       "  </thead>\n",
       "  <tbody>\n",
       "    <tr>\n",
       "      <th>count</th>\n",
       "      <td>6081.000000</td>\n",
       "      <td>6081.000000</td>\n",
       "      <td>6081.000000</td>\n",
       "    </tr>\n",
       "    <tr>\n",
       "      <th>mean</th>\n",
       "      <td>83.645453</td>\n",
       "      <td>18.972209</td>\n",
       "      <td>1.993587</td>\n",
       "    </tr>\n",
       "    <tr>\n",
       "      <th>std</th>\n",
       "      <td>58.614409</td>\n",
       "      <td>12.994852</td>\n",
       "      <td>1.433318</td>\n",
       "    </tr>\n",
       "    <tr>\n",
       "      <th>min</th>\n",
       "      <td>2.000000</td>\n",
       "      <td>1.000000</td>\n",
       "      <td>1.000000</td>\n",
       "    </tr>\n",
       "    <tr>\n",
       "      <th>25%</th>\n",
       "      <td>38.000000</td>\n",
       "      <td>9.000000</td>\n",
       "      <td>1.000000</td>\n",
       "    </tr>\n",
       "    <tr>\n",
       "      <th>50%</th>\n",
       "      <td>67.000000</td>\n",
       "      <td>16.000000</td>\n",
       "      <td>2.000000</td>\n",
       "    </tr>\n",
       "    <tr>\n",
       "      <th>75%</th>\n",
       "      <td>127.000000</td>\n",
       "      <td>27.000000</td>\n",
       "      <td>2.000000</td>\n",
       "    </tr>\n",
       "    <tr>\n",
       "      <th>max</th>\n",
       "      <td>910.000000</td>\n",
       "      <td>220.000000</td>\n",
       "      <td>38.000000</td>\n",
       "    </tr>\n",
       "  </tbody>\n",
       "</table>\n",
       "</div>"
      ],
      "text/plain": [
       "       num_characters  num_of_words  num_sentences\n",
       "count     6081.000000   6081.000000    6081.000000\n",
       "mean        83.645453     18.972209       1.993587\n",
       "std         58.614409     12.994852       1.433318\n",
       "min          2.000000      1.000000       1.000000\n",
       "25%         38.000000      9.000000       1.000000\n",
       "50%         67.000000     16.000000       2.000000\n",
       "75%        127.000000     27.000000       2.000000\n",
       "max        910.000000    220.000000      38.000000"
      ]
     },
     "execution_count": 73,
     "metadata": {},
     "output_type": "execute_result"
    }
   ],
   "source": [
    "dataset[['num_characters', 'num_of_words','num_sentences']].describe()"
   ]
  },
  {
   "cell_type": "code",
   "execution_count": 74,
   "id": "cb08389e",
   "metadata": {},
   "outputs": [
    {
     "data": {
      "text/html": [
       "<div>\n",
       "<style scoped>\n",
       "    .dataframe tbody tr th:only-of-type {\n",
       "        vertical-align: middle;\n",
       "    }\n",
       "\n",
       "    .dataframe tbody tr th {\n",
       "        vertical-align: top;\n",
       "    }\n",
       "\n",
       "    .dataframe thead th {\n",
       "        text-align: right;\n",
       "    }\n",
       "</style>\n",
       "<table border=\"1\" class=\"dataframe\">\n",
       "  <thead>\n",
       "    <tr style=\"text-align: right;\">\n",
       "      <th></th>\n",
       "      <th>num_characters</th>\n",
       "      <th>num_of_words</th>\n",
       "      <th>num_sentences</th>\n",
       "    </tr>\n",
       "  </thead>\n",
       "  <tbody>\n",
       "    <tr>\n",
       "      <th>count</th>\n",
       "      <td>4858.000000</td>\n",
       "      <td>4858.000000</td>\n",
       "      <td>4858.000000</td>\n",
       "    </tr>\n",
       "    <tr>\n",
       "      <th>mean</th>\n",
       "      <td>71.098600</td>\n",
       "      <td>17.222314</td>\n",
       "      <td>1.824207</td>\n",
       "    </tr>\n",
       "    <tr>\n",
       "      <th>std</th>\n",
       "      <td>56.374234</td>\n",
       "      <td>13.447141</td>\n",
       "      <td>1.385227</td>\n",
       "    </tr>\n",
       "    <tr>\n",
       "      <th>min</th>\n",
       "      <td>2.000000</td>\n",
       "      <td>1.000000</td>\n",
       "      <td>1.000000</td>\n",
       "    </tr>\n",
       "    <tr>\n",
       "      <th>25%</th>\n",
       "      <td>34.000000</td>\n",
       "      <td>8.250000</td>\n",
       "      <td>1.000000</td>\n",
       "    </tr>\n",
       "    <tr>\n",
       "      <th>50%</th>\n",
       "      <td>53.000000</td>\n",
       "      <td>13.000000</td>\n",
       "      <td>1.000000</td>\n",
       "    </tr>\n",
       "    <tr>\n",
       "      <th>75%</th>\n",
       "      <td>92.000000</td>\n",
       "      <td>22.000000</td>\n",
       "      <td>2.000000</td>\n",
       "    </tr>\n",
       "    <tr>\n",
       "      <th>max</th>\n",
       "      <td>910.000000</td>\n",
       "      <td>220.000000</td>\n",
       "      <td>38.000000</td>\n",
       "    </tr>\n",
       "  </tbody>\n",
       "</table>\n",
       "</div>"
      ],
      "text/plain": [
       "       num_characters  num_of_words  num_sentences\n",
       "count     4858.000000   4858.000000    4858.000000\n",
       "mean        71.098600     17.222314       1.824207\n",
       "std         56.374234     13.447141       1.385227\n",
       "min          2.000000      1.000000       1.000000\n",
       "25%         34.000000      8.250000       1.000000\n",
       "50%         53.000000     13.000000       1.000000\n",
       "75%         92.000000     22.000000       2.000000\n",
       "max        910.000000    220.000000      38.000000"
      ]
     },
     "execution_count": 74,
     "metadata": {},
     "output_type": "execute_result"
    }
   ],
   "source": [
    "#legit\n",
    "dataset[dataset['target'] == 0][['num_characters','num_of_words','num_sentences']].describe()"
   ]
  },
  {
   "cell_type": "code",
   "execution_count": 75,
   "id": "db0c1f7f",
   "metadata": {},
   "outputs": [
    {
     "data": {
      "text/html": [
       "<div>\n",
       "<style scoped>\n",
       "    .dataframe tbody tr th:only-of-type {\n",
       "        vertical-align: middle;\n",
       "    }\n",
       "\n",
       "    .dataframe tbody tr th {\n",
       "        vertical-align: top;\n",
       "    }\n",
       "\n",
       "    .dataframe thead th {\n",
       "        text-align: right;\n",
       "    }\n",
       "</style>\n",
       "<table border=\"1\" class=\"dataframe\">\n",
       "  <thead>\n",
       "    <tr style=\"text-align: right;\">\n",
       "      <th></th>\n",
       "      <th>num_characters</th>\n",
       "      <th>num_of_words</th>\n",
       "      <th>num_sentences</th>\n",
       "    </tr>\n",
       "  </thead>\n",
       "  <tbody>\n",
       "    <tr>\n",
       "      <th>count</th>\n",
       "      <td>1223.000000</td>\n",
       "      <td>1223.000000</td>\n",
       "      <td>1223.000000</td>\n",
       "    </tr>\n",
       "    <tr>\n",
       "      <th>mean</th>\n",
       "      <td>133.484056</td>\n",
       "      <td>25.923140</td>\n",
       "      <td>2.666394</td>\n",
       "    </tr>\n",
       "    <tr>\n",
       "      <th>std</th>\n",
       "      <td>36.749912</td>\n",
       "      <td>7.806517</td>\n",
       "      <td>1.423985</td>\n",
       "    </tr>\n",
       "    <tr>\n",
       "      <th>min</th>\n",
       "      <td>18.000000</td>\n",
       "      <td>2.000000</td>\n",
       "      <td>1.000000</td>\n",
       "    </tr>\n",
       "    <tr>\n",
       "      <th>25%</th>\n",
       "      <td>117.000000</td>\n",
       "      <td>22.000000</td>\n",
       "      <td>2.000000</td>\n",
       "    </tr>\n",
       "    <tr>\n",
       "      <th>50%</th>\n",
       "      <td>143.000000</td>\n",
       "      <td>27.000000</td>\n",
       "      <td>2.000000</td>\n",
       "    </tr>\n",
       "    <tr>\n",
       "      <th>75%</th>\n",
       "      <td>156.000000</td>\n",
       "      <td>31.000000</td>\n",
       "      <td>3.000000</td>\n",
       "    </tr>\n",
       "    <tr>\n",
       "      <th>max</th>\n",
       "      <td>383.000000</td>\n",
       "      <td>75.000000</td>\n",
       "      <td>9.000000</td>\n",
       "    </tr>\n",
       "  </tbody>\n",
       "</table>\n",
       "</div>"
      ],
      "text/plain": [
       "       num_characters  num_of_words  num_sentences\n",
       "count     1223.000000   1223.000000    1223.000000\n",
       "mean       133.484056     25.923140       2.666394\n",
       "std         36.749912      7.806517       1.423985\n",
       "min         18.000000      2.000000       1.000000\n",
       "25%        117.000000     22.000000       2.000000\n",
       "50%        143.000000     27.000000       2.000000\n",
       "75%        156.000000     31.000000       3.000000\n",
       "max        383.000000     75.000000       9.000000"
      ]
     },
     "execution_count": 75,
     "metadata": {},
     "output_type": "execute_result"
    }
   ],
   "source": [
    "#smishing\n",
    "dataset[dataset['target'] == 1][['num_characters','num_of_words','num_sentences']].describe()"
   ]
  },
  {
   "cell_type": "markdown",
   "id": "6651f07e",
   "metadata": {},
   "source": [
    "## 3.1. GRAPHICAL REPRESENTATION"
   ]
  },
  {
   "cell_type": "code",
   "execution_count": 76,
   "id": "3e742789",
   "metadata": {},
   "outputs": [],
   "source": [
    "import seaborn as sns"
   ]
  },
  {
   "cell_type": "code",
   "execution_count": 77,
   "id": "68aca15b",
   "metadata": {},
   "outputs": [
    {
     "data": {
      "text/plain": [
       "<AxesSubplot:xlabel='num_characters', ylabel='Count'>"
      ]
     },
     "execution_count": 77,
     "metadata": {},
     "output_type": "execute_result"
    },
    {
     "data": {
      "image/png": "[encoded data removed]",
      "text/plain": [
       "<Figure size 864x432 with 1 Axes>"
      ]
     },
     "metadata": {
      "needs_background": "light"
     },
     "output_type": "display_data"
    }
   ],
   "source": [
    "plt.figure(figsize=(12,6))\n",
    "sns.histplot(dataset[dataset['target'] == 0]['num_characters'])\n",
    "sns.histplot(dataset[dataset['target'] == 1]['num_characters'], color = 'red')"
   ]
  },
  {
   "cell_type": "code",
   "execution_count": 78,
   "id": "db6b21c8",
   "metadata": {},
   "outputs": [
    {
     "data": {
      "text/plain": [
       "<AxesSubplot:xlabel='num_of_words', ylabel='Count'>"
      ]
     },
     "execution_count": 78,
     "metadata": {},
     "output_type": "execute_result"
    },
    {
     "data": {
      "image/png": "[encoded data removed]",
      "text/plain": [
       "<Figure size 864x432 with 1 Axes>"
      ]
     },
     "metadata": {
      "needs_background": "light"
     },
     "output_type": "display_data"
    }
   ],
   "source": [
    "plt.figure(figsize=(12,6))\n",
    "sns.histplot(dataset[dataset['target'] == 0]['num_of_words'])\n",
    "sns.histplot(dataset[dataset['target'] == 1]['num_of_words'], color = 'red')"
   ]
  },
  {
   "cell_type": "code",
   "execution_count": 79,
   "id": "668b2397",
   "metadata": {},
   "outputs": [
    {
     "data": {
      "text/plain": [
       "<seaborn.axisgrid.PairGrid at 0x1e92048bc10>"
      ]
     },
     "execution_count": 79,
     "metadata": {},
     "output_type": "execute_result"
    },
    {
     "data": {
      "image/png": "[encoded data removed]",
      "text/plain": [
       "<Figure size 582.375x540 with 12 Axes>"
      ]
     },
     "metadata": {
      "needs_background": "light"
     },
     "output_type": "display_data"
    }
   ],
   "source": [
    "#comparing\n",
    "sns.pairplot(dataset,hue='target')"
   ]
  },
  {
   "cell_type": "code",
   "execution_count": 80,
   "id": "ddd6db33",
   "metadata": {},
   "outputs": [
    {
     "data": {
      "text/plain": [
       "<AxesSubplot:>"
      ]
     },
     "execution_count": 80,
     "metadata": {},
     "output_type": "execute_result"
    },
    {
     "data": {
      "image/png": "[encoded data removed]",
      "text/plain": [
       "<Figure size 432x288 with 2 Axes>"
      ]
     },
     "metadata": {
      "needs_background": "light"
     },
     "output_type": "display_data"
    }
   ],
   "source": [
    "sns.heatmap(dataset.corr(), annot=True)"
   ]
  },
  {
   "cell_type": "markdown",
   "id": "810ec86f",
   "metadata": {},
   "source": [
    "## 4. DATA PREPROCESSING\n",
    "        Lower case\n",
    "        Tokenization\n",
    "        Removing special characters\n",
    "        Removing stop words and punctuation\n",
    "        Stemming"
   ]
  },
  {
   "cell_type": "code",
   "execution_count": 81,
   "id": "15346aa8",
   "metadata": {},
   "outputs": [
    {
     "name": "stdout",
     "output_type": "stream",
     "text": [
      "Requirement already satisfied: nltk in c:\\users\\simeon.a.mataka\\anaconda3\\lib\\site-packages (3.6.1)\n",
      "Requirement already satisfied: regex in c:\\users\\simeon.a.mataka\\anaconda3\\lib\\site-packages (from nltk) (2021.4.4)\n",
      "Requirement already satisfied: joblib in c:\\users\\simeon.a.mataka\\anaconda3\\lib\\site-packages (from nltk) (1.0.1)\n",
      "Requirement already satisfied: click in c:\\users\\simeon.a.mataka\\anaconda3\\lib\\site-packages (from nltk) (7.1.2)\n",
      "Requirement already satisfied: tqdm in c:\\users\\simeon.a.mataka\\anaconda3\\lib\\site-packages (from nltk) (4.59.0)\n"
     ]
    }
   ],
   "source": [
    "import nltk\n",
    "!pip install nltk"
   ]
  },
  {
   "cell_type": "code",
   "execution_count": 84,
   "id": "65de16db",
   "metadata": {},
   "outputs": [
    {
     "name": "stderr",
     "output_type": "stream",
     "text": [
      "[nltk_data] Downloading package stopwords to\n",
      "[nltk_data]     C:\\Users\\SIMEON.A.MATAKA\\AppData\\Roaming\\nltk_data...\n",
      "[nltk_data]   Unzipping corpora\\stopwords.zip.\n"
     ]
    },
    {
     "data": {
      "text/plain": [
       "True"
      ]
     },
     "execution_count": 84,
     "metadata": {},
     "output_type": "execute_result"
    }
   ],
   "source": [
    "nltk.download('stopwords')"
   ]
  },
  {
   "cell_type": "code",
   "execution_count": 85,
   "id": "8b2de19a",
   "metadata": {},
   "outputs": [],
   "source": [
    "\n",
    "from nltk.stem.porter import PorterStemmer\n",
    "from nltk.corpus import stopwords\n",
    "import string\n",
    "ps = PorterStemmer()\n",
    "\n",
    "def transform_text(text):\n",
    "    #Lowercase\n",
    "    text = text.lower()\n",
    "    \n",
    "    #Tokenization\n",
    "    text = nltk.word_tokenize(text)\n",
    "    \n",
    "    #alpha numerical values\n",
    "    y = []\n",
    "    for i in text:\n",
    "        if i.isalnum():\n",
    "            y.append(i)\n",
    "            \n",
    "    text = y[:]\n",
    "    y.clear()\n",
    "    \n",
    "    #Removing stopwords\n",
    "    for i in text:\n",
    "        if i not in stopwords.words('english') and i not in string.punctuation:\n",
    "            y.append(i)\n",
    "            \n",
    "    text = y[:]\n",
    "    y.clear()\n",
    "    \n",
    "    #Stemming\n",
    "    for i in text:\n",
    "        y.append(ps.stem(i))\n",
    "    \n",
    "    \n",
    "    return \" \".join(y)"
   ]
  },
  {
   "cell_type": "code",
   "execution_count": 86,
   "id": "18b7506f",
   "metadata": {},
   "outputs": [],
   "source": [
    "dataset['transformed_messages'] = dataset['message'].apply(transform_text)"
   ]
  },
  {
   "cell_type": "code",
   "execution_count": 87,
   "id": "4446ef07",
   "metadata": {},
   "outputs": [
    {
     "data": {
      "text/html": [
       "<div>\n",
       "<style scoped>\n",
       "    .dataframe tbody tr th:only-of-type {\n",
       "        vertical-align: middle;\n",
       "    }\n",
       "\n",
       "    .dataframe tbody tr th {\n",
       "        vertical-align: top;\n",
       "    }\n",
       "\n",
       "    .dataframe thead th {\n",
       "        text-align: right;\n",
       "    }\n",
       "</style>\n",
       "<table border=\"1\" class=\"dataframe\">\n",
       "  <thead>\n",
       "    <tr style=\"text-align: right;\">\n",
       "      <th></th>\n",
       "      <th>target</th>\n",
       "      <th>message</th>\n",
       "      <th>num_characters</th>\n",
       "      <th>num_of_words</th>\n",
       "      <th>num_sentences</th>\n",
       "      <th>transformed_messages</th>\n",
       "    </tr>\n",
       "  </thead>\n",
       "  <tbody>\n",
       "    <tr>\n",
       "      <th>0</th>\n",
       "      <td>0</td>\n",
       "      <td>Your opinion about me? 1. Over 2. Jada 3. Kusr...</td>\n",
       "      <td>136</td>\n",
       "      <td>37</td>\n",
       "      <td>11</td>\n",
       "      <td>opinion jada kusruthi lovabl silent spl charac...</td>\n",
       "    </tr>\n",
       "    <tr>\n",
       "      <th>1</th>\n",
       "      <td>0</td>\n",
       "      <td>What's up? Do you want me to come online? If y...</td>\n",
       "      <td>79</td>\n",
       "      <td>20</td>\n",
       "      <td>3</td>\n",
       "      <td>want come onlin free talk</td>\n",
       "    </tr>\n",
       "    <tr>\n",
       "      <th>2</th>\n",
       "      <td>0</td>\n",
       "      <td>So u workin overtime nigpun?</td>\n",
       "      <td>28</td>\n",
       "      <td>6</td>\n",
       "      <td>1</td>\n",
       "      <td>u workin overtim nigpun</td>\n",
       "    </tr>\n",
       "    <tr>\n",
       "      <th>3</th>\n",
       "      <td>0</td>\n",
       "      <td>Also sir, i sent you an email about how to log...</td>\n",
       "      <td>173</td>\n",
       "      <td>37</td>\n",
       "      <td>3</td>\n",
       "      <td>also sir sent email log usc payment portal sen...</td>\n",
       "    </tr>\n",
       "    <tr>\n",
       "      <th>4</th>\n",
       "      <td>1</td>\n",
       "      <td>Please Stay At Home. To encourage the notion o...</td>\n",
       "      <td>152</td>\n",
       "      <td>27</td>\n",
       "      <td>4</td>\n",
       "      <td>pleas stay home encourag notion stay home citi...</td>\n",
       "    </tr>\n",
       "    <tr>\n",
       "      <th>...</th>\n",
       "      <td>...</td>\n",
       "      <td>...</td>\n",
       "      <td>...</td>\n",
       "      <td>...</td>\n",
       "      <td>...</td>\n",
       "      <td>...</td>\n",
       "    </tr>\n",
       "    <tr>\n",
       "      <th>6101</th>\n",
       "      <td>0</td>\n",
       "      <td>Madera ambiri akuzizira m'Malawi muno, yimbani...</td>\n",
       "      <td>114</td>\n",
       "      <td>18</td>\n",
       "      <td>1</td>\n",
       "      <td>madera ambiri akuzizira muno yimbani 321 mwaul...</td>\n",
       "    </tr>\n",
       "    <tr>\n",
       "      <th>6102</th>\n",
       "      <td>0</td>\n",
       "      <td>Tiketi imodzi YAULELE ya MK500 ikudikila inu 8...</td>\n",
       "      <td>154</td>\n",
       "      <td>27</td>\n",
       "      <td>4</td>\n",
       "      <td>tiketi imodzi yaulel ya mk500 ikudikila inu mu...</td>\n",
       "    </tr>\n",
       "    <tr>\n",
       "      <th>6103</th>\n",
       "      <td>0</td>\n",
       "      <td>Pezani mwayi opata mphoto yokwana MK5Mil ndiku...</td>\n",
       "      <td>159</td>\n",
       "      <td>25</td>\n",
       "      <td>2</td>\n",
       "      <td>pezani mwayi opata mphoto yokwana mk5mil ndiku...</td>\n",
       "    </tr>\n",
       "    <tr>\n",
       "      <th>6104</th>\n",
       "      <td>0</td>\n",
       "      <td>Unduna wa za Umoyo ukulimbikitsa inu kukalandi...</td>\n",
       "      <td>142</td>\n",
       "      <td>22</td>\n",
       "      <td>1</td>\n",
       "      <td>unduna wa za umoyo ukulimbikitsa inu kukalandi...</td>\n",
       "    </tr>\n",
       "    <tr>\n",
       "      <th>6105</th>\n",
       "      <td>0</td>\n",
       "      <td>Unduna wa za umoyo ukukulimbikitsani kuti muka...</td>\n",
       "      <td>257</td>\n",
       "      <td>39</td>\n",
       "      <td>2</td>\n",
       "      <td>unduna wa za umoyo ukukulimbikitsani kuti muka...</td>\n",
       "    </tr>\n",
       "  </tbody>\n",
       "</table>\n",
       "<p>6081 rows × 6 columns</p>\n",
       "</div>"
      ],
      "text/plain": [
       "      target                                            message  \\\n",
       "0          0  Your opinion about me? 1. Over 2. Jada 3. Kusr...   \n",
       "1          0  What's up? Do you want me to come online? If y...   \n",
       "2          0                       So u workin overtime nigpun?   \n",
       "3          0  Also sir, i sent you an email about how to log...   \n",
       "4          1  Please Stay At Home. To encourage the notion o...   \n",
       "...      ...                                                ...   \n",
       "6101       0  Madera ambiri akuzizira m'Malawi muno, yimbani...   \n",
       "6102       0  Tiketi imodzi YAULELE ya MK500 ikudikila inu 8...   \n",
       "6103       0  Pezani mwayi opata mphoto yokwana MK5Mil ndiku...   \n",
       "6104       0  Unduna wa za Umoyo ukulimbikitsa inu kukalandi...   \n",
       "6105       0  Unduna wa za umoyo ukukulimbikitsani kuti muka...   \n",
       "\n",
       "      num_characters  num_of_words  num_sentences  \\\n",
       "0                136            37             11   \n",
       "1                 79            20              3   \n",
       "2                 28             6              1   \n",
       "3                173            37              3   \n",
       "4                152            27              4   \n",
       "...              ...           ...            ...   \n",
       "6101             114            18              1   \n",
       "6102             154            27              4   \n",
       "6103             159            25              2   \n",
       "6104             142            22              1   \n",
       "6105             257            39              2   \n",
       "\n",
       "                                   transformed_messages  \n",
       "0     opinion jada kusruthi lovabl silent spl charac...  \n",
       "1                             want come onlin free talk  \n",
       "2                               u workin overtim nigpun  \n",
       "3     also sir sent email log usc payment portal sen...  \n",
       "4     pleas stay home encourag notion stay home citi...  \n",
       "...                                                 ...  \n",
       "6101  madera ambiri akuzizira muno yimbani 321 mwaul...  \n",
       "6102  tiketi imodzi yaulel ya mk500 ikudikila inu mu...  \n",
       "6103  pezani mwayi opata mphoto yokwana mk5mil ndiku...  \n",
       "6104  unduna wa za umoyo ukulimbikitsa inu kukalandi...  \n",
       "6105  unduna wa za umoyo ukukulimbikitsani kuti muka...  \n",
       "\n",
       "[6081 rows x 6 columns]"
      ]
     },
     "execution_count": 87,
     "metadata": {},
     "output_type": "execute_result"
    }
   ],
   "source": [
    "dataset"
   ]
  },
  {
   "cell_type": "markdown",
   "id": "73572826",
   "metadata": {},
   "source": [
    "## 5. MODEL BUILDING\n",
    "        Importing model packages\n",
    "        Spliting data into test_set and train_set\n",
    "        Converting the messages into numerical data (encoding)"
   ]
  },
  {
   "cell_type": "code",
   "execution_count": 88,
   "id": "b9038843",
   "metadata": {},
   "outputs": [],
   "source": [
    "from sklearn.feature_extraction.text import CountVectorizer, TfidfVectorizer\n",
    "cv = CountVectorizer()\n",
    "tfidf = TfidfVectorizer()"
   ]
  },
  {
   "cell_type": "code",
   "execution_count": 89,
   "id": "bdc9ef79",
   "metadata": {},
   "outputs": [],
   "source": [
    "X = dataset['transformed_messages']"
   ]
  },
  {
   "cell_type": "code",
   "execution_count": 90,
   "id": "d82aa7f0",
   "metadata": {},
   "outputs": [
    {
     "data": {
      "text/plain": [
       "(6081,)"
      ]
     },
     "execution_count": 90,
     "metadata": {},
     "output_type": "execute_result"
    }
   ],
   "source": [
    "X.shape"
   ]
  },
  {
   "cell_type": "code",
   "execution_count": 91,
   "id": "cf4cd980",
   "metadata": {},
   "outputs": [],
   "source": [
    "Y = dataset['target'].values"
   ]
  },
  {
   "cell_type": "code",
   "execution_count": 92,
   "id": "e2391080",
   "metadata": {},
   "outputs": [
    {
     "data": {
      "text/plain": [
       "array([0, 0, 0, ..., 0, 0, 0])"
      ]
     },
     "execution_count": 92,
     "metadata": {},
     "output_type": "execute_result"
    }
   ],
   "source": [
    "Y"
   ]
  },
  {
   "cell_type": "code",
   "execution_count": 93,
   "id": "45991a5d",
   "metadata": {},
   "outputs": [],
   "source": [
    "#Splitting the data\n",
    "from sklearn.model_selection import train_test_split"
   ]
  },
  {
   "cell_type": "code",
   "execution_count": 94,
   "id": "a7da1165",
   "metadata": {},
   "outputs": [],
   "source": [
    "X_train, X_test,y_train, y_test = train_test_split(X, Y, test_size=0.2, random_state = 42)"
   ]
  },
  {
   "cell_type": "code",
   "execution_count": 95,
   "id": "c574e772",
   "metadata": {},
   "outputs": [],
   "source": [
    "#Transform the text data to feature vectors that can be used as input to the Model\n",
    "\n",
    "feature_extraction = TfidfVectorizer(min_df = 1, stop_words = 'english', lowercase = 'True')\n",
    "\n",
    "X_train_features = feature_extraction.fit_transform(X_train)\n",
    "X_test_features = feature_extraction.transform(X_test)\n",
    "\n",
    "\n",
    "#Convert Y_train and Y_test values as integers\n",
    "\n",
    "y_train = y_train.astype('int')\n",
    "y_test = y_test.astype('int')"
   ]
  },
  {
   "cell_type": "code",
   "execution_count": 96,
   "id": "c185ee18",
   "metadata": {},
   "outputs": [
    {
     "data": {
      "text/plain": [
       "2579                         sorri call later urgent work\n",
       "904                                                   see\n",
       "2537                                   k u bore come home\n",
       "109                                         sir wait call\n",
       "6070    miracl money satansm church mwina mwakhala muk...\n",
       "5416    yeah got 2 v apologet n fallen actin like spoi...\n",
       "5112    dude avatar 3d imp one point thought actual fl...\n",
       "2838    sorri man accident left phone silent last nigh...\n",
       "3732    heard anyth answer text guess flake said jb fa...\n",
       "5197                               wat happen cruis thing\n",
       "Name: transformed_messages, dtype: object"
      ]
     },
     "execution_count": 96,
     "metadata": {},
     "output_type": "execute_result"
    }
   ],
   "source": [
    "X_train.head(10)"
   ]
  },
  {
   "cell_type": "code",
   "execution_count": 97,
   "id": "85bdeb4f",
   "metadata": {},
   "outputs": [
    {
     "name": "stdout",
     "output_type": "stream",
     "text": [
      "  (0, 6645)\t0.488861559038191\n",
      "  (0, 6349)\t0.5178478740872305\n",
      "  (0, 3557)\t0.5079568816842077\n",
      "  (0, 5613)\t0.4845903029856673\n",
      "  (2, 3021)\t0.5169335499290749\n",
      "  (2, 1759)\t0.4551837749043364\n",
      "  (2, 1368)\t0.7249740933451093\n",
      "  (3, 6485)\t0.6301867136255204\n",
      "  (3, 5495)\t0.7764436270392503\n",
      "  (4, 391)\t0.2647350944379083\n",
      "  (4, 159)\t0.2647350944379083\n",
      "  (4, 535)\t0.23167246177967557\n",
      "  (4, 3145)\t0.252532660455158\n",
      "  (4, 3944)\t0.2647350944379083\n",
      "  (4, 4099)\t0.2647350944379083\n",
      "  (4, 3339)\t0.1794698074907745\n",
      "  (4, 3498)\t0.178597430317141\n",
      "  (4, 1500)\t0.2647350944379083\n",
      "  (4, 1676)\t0.24387489576242588\n",
      "  (4, 1685)\t0.21947002779692526\n",
      "  (4, 4093)\t0.21947002779692526\n",
      "  (4, 4150)\t0.23167246177967557\n",
      "  (4, 4161)\t0.2647350944379083\n",
      "  (4, 1686)\t0.2270333116866757\n",
      "  (4, 5294)\t0.2647350944379083\n",
      "  :\t:\n",
      "  (4860, 3053)\t0.21640648544981375\n",
      "  (4860, 6513)\t0.1964884576896605\n",
      "  (4860, 2352)\t0.27151576450063475\n",
      "  (4860, 6026)\t0.1866940652831435\n",
      "  (4861, 6337)\t0.31333237501494265\n",
      "  (4861, 307)\t0.29888994671167524\n",
      "  (4861, 2620)\t0.2886428807559732\n",
      "  (4861, 6320)\t0.23926389223803446\n",
      "  (4861, 434)\t0.29888994671167524\n",
      "  (4861, 44)\t0.2495109581937365\n",
      "  (4861, 1532)\t0.21347832962403257\n",
      "  (4861, 4486)\t0.2279207579272999\n",
      "  (4861, 1755)\t0.21933070752494258\n",
      "  (4861, 6338)\t0.21933070752494258\n",
      "  (4861, 3558)\t0.2057466198137639\n",
      "  (4861, 4002)\t0.47107571729615816\n",
      "  (4861, 2616)\t0.14510356341251598\n",
      "  (4861, 6541)\t0.2032312636683305\n",
      "  (4862, 1486)\t0.5822505623752351\n",
      "  (4862, 5168)\t0.49709978458828674\n",
      "  (4862, 3557)\t0.4654848341438651\n",
      "  (4862, 5613)\t0.4440720166347568\n",
      "  (4863, 6410)\t0.8223337469007179\n",
      "  (4863, 2778)\t0.39761591879515085\n",
      "  (4863, 4428)\t0.4070243111030518\n"
     ]
    }
   ],
   "source": [
    "print(X_train_features)"
   ]
  },
  {
   "cell_type": "code",
   "execution_count": 98,
   "id": "067af920",
   "metadata": {},
   "outputs": [
    {
     "name": "stdout",
     "output_type": "stream",
     "text": [
      "(6081,)\n",
      "(4864,)\n",
      "(1217,)\n",
      "(4864,)\n",
      "(1217,)\n"
     ]
    }
   ],
   "source": [
    "print(X.shape)\n",
    "print(X_train.shape)\n",
    "print(X_test.shape)\n",
    "print(y_train.shape)\n",
    "print(y_test.shape)"
   ]
  },
  {
   "cell_type": "code",
   "execution_count": 99,
   "id": "6ed19232",
   "metadata": {},
   "outputs": [
    {
     "name": "stdout",
     "output_type": "stream",
     "text": [
      "Collecting xgboost\n",
      "  Downloading xgboost-2.0.0-py3-none-win_amd64.whl (99.7 MB)\n",
      "Requirement already satisfied: scipy in c:\\users\\simeon.a.mataka\\anaconda3\\lib\\site-packages (from xgboost) (1.6.2)\n",
      "Requirement already satisfied: numpy in c:\\users\\simeon.a.mataka\\anaconda3\\lib\\site-packages (from xgboost) (1.20.1)\n",
      "Installing collected packages: xgboost\n",
      "Successfully installed xgboost-2.0.0\n"
     ]
    }
   ],
   "source": [
    "!pip install xgboost"
   ]
  },
  {
   "cell_type": "code",
   "execution_count": 100,
   "id": "ecd38ad5",
   "metadata": {},
   "outputs": [
    {
     "name": "stdout",
     "output_type": "stream",
     "text": [
      "Collecting lightgbm\n",
      "  Downloading lightgbm-4.1.0-py3-none-win_amd64.whl (1.3 MB)\n",
      "Requirement already satisfied: scipy in c:\\users\\simeon.a.mataka\\anaconda3\\lib\\site-packages (from lightgbm) (1.6.2)\n",
      "Requirement already satisfied: numpy in c:\\users\\simeon.a.mataka\\anaconda3\\lib\\site-packages (from lightgbm) (1.20.1)\n",
      "Installing collected packages: lightgbm\n",
      "Successfully installed lightgbm-4.1.0\n",
      "Note: you may need to restart the kernel to use updated packages.\n"
     ]
    }
   ],
   "source": [
    "pip install lightgbm"
   ]
  },
  {
   "cell_type": "code",
   "execution_count": 101,
   "id": "3857718f",
   "metadata": {},
   "outputs": [],
   "source": [
    "from sklearn.metrics import accuracy_score, confusion_matrix, precision_score, f1_score\n",
    "\n",
    "#Algorithms\n",
    "from sklearn.naive_bayes import GaussianNB, MultinomialNB, BernoulliNB\n",
    "from sklearn.linear_model import LogisticRegression\n",
    "from sklearn.svm import SVC \n",
    "from sklearn.naive_bayes import MultinomialNB\n",
    "from sklearn.tree import DecisionTreeClassifier\n",
    "from sklearn.neighbors import KNeighborsClassifier\n",
    "from sklearn.ensemble import RandomForestClassifier\n",
    "from sklearn.ensemble import AdaBoostClassifier\n",
    "from sklearn.ensemble import BaggingClassifier\n",
    "from sklearn.ensemble import ExtraTreesClassifier\n",
    "from sklearn.ensemble import GradientBoostingClassifier\n",
    "from xgboost import XGBClassifier\n",
    "import lightgbm as lgb"
   ]
  },
  {
   "cell_type": "code",
   "execution_count": 102,
   "id": "3684905b",
   "metadata": {},
   "outputs": [],
   "source": [
    "svc = SVC(kernel = 'sigmoid', gamma=1.0)\n",
    "knc = KNeighborsClassifier()\n",
    "mnb = MultinomialNB()\n",
    "gnb = GaussianNB()\n",
    "bnb = BernoulliNB()\n",
    "rf = RandomForestClassifier(n_estimators=100, max_depth=10, random_state=42)\n",
    "dtc = DecisionTreeClassifier(max_depth = 5)\n",
    "lrc = LogisticRegression(solver='liblinear', penalty = 'l1')\n",
    "abc = AdaBoostClassifier(n_estimators=50, random_state = 2)\n",
    "bc = BaggingClassifier(n_estimators=50, random_state = 2)\n",
    "etc = ExtraTreesClassifier(n_estimators=50, random_state = 2)\n",
    "gbdt = GradientBoostingClassifier(n_estimators = 50, random_state = 2)\n",
    "xbg = XGBClassifier(n_estimators = 50, random_state = 2)\n",
    "lgb = lgb.LGBMClassifier()"
   ]
  },
  {
   "cell_type": "code",
   "execution_count": 103,
   "id": "b5ea7d2c",
   "metadata": {},
   "outputs": [],
   "source": [
    "clfs = {\n",
    "    'SVC' : svc,\n",
    "    'KN' : knc,\n",
    "    'NB' : mnb,\n",
    "    'DT' : dtc,\n",
    "    'LR' : lrc,\n",
    "    'RF' : rf,\n",
    "    'AdaBoost' : abc,\n",
    "    'BgC' : bc,\n",
    "    'ETC' : etc,\n",
    "    'GBDT' : gbdt,\n",
    "    'xbg' : xbg,\n",
    "    'lgb' : lgb,\n",
    "}"
   ]
  },
  {
   "cell_type": "code",
   "execution_count": 104,
   "id": "c0e3bc5d",
   "metadata": {},
   "outputs": [],
   "source": [
    "def train_classifier(clf, X_train, y_train, X_test, y_test):\n",
    "    clf.fit(X_train, y_train)\n",
    "    y_pred = clf.predict(X_test)\n",
    "    accuracy = accuracy_score(y_test, y_pred)\n",
    "    precision = precision_score(y_test, y_pred)\n",
    "    \n",
    "    return accuracy, precision"
   ]
  },
  {
   "cell_type": "code",
   "execution_count": 105,
   "id": "b5634e56",
   "metadata": {},
   "outputs": [],
   "source": [
    "#train_classifier(knc, X_train_features, y_train, X_test_features, y_test)"
   ]
  },
  {
   "cell_type": "code",
   "execution_count": 106,
   "id": "d045a596",
   "metadata": {
    "scrolled": true
   },
   "outputs": [
    {
     "name": "stdout",
     "output_type": "stream",
     "text": [
      "For  SVC\n",
      "Accuracy -  0.9769926047658176\n",
      "Precision -  0.9675925925925926\n",
      "For  KN\n",
      "Accuracy -  0.8833196384552178\n",
      "Precision -  1.0\n",
      "For  NB\n",
      "Accuracy -  0.971240755957272\n",
      "Precision -  0.9899497487437185\n",
      "For  DT\n",
      "Accuracy -  0.895645028759244\n",
      "Precision -  0.8705035971223022\n",
      "For  LR\n",
      "Accuracy -  0.9482333607230896\n",
      "Precision -  0.9326424870466321\n",
      "For  RF\n",
      "Accuracy -  0.8488085456039441\n",
      "Precision -  1.0\n",
      "For  AdaBoost\n",
      "Accuracy -  0.9391947411668036\n",
      "Precision -  0.8861386138613861\n",
      "For  BgC\n",
      "Accuracy -  0.9589153656532456\n",
      "Precision -  0.8913043478260869\n",
      "For  ETC\n",
      "Accuracy -  0.9745275267050123\n",
      "Precision -  0.9806763285024155\n",
      "For  GBDT\n",
      "Accuracy -  0.914543960558751\n",
      "Precision -  0.9565217391304348\n",
      "For  xbg\n",
      "Accuracy -  0.9515201314708299\n",
      "Precision -  0.9430051813471503\n",
      "[LightGBM] [Info] Number of positive: 993, number of negative: 3871\n",
      "[LightGBM] [Info] Auto-choosing row-wise multi-threading, the overhead of testing was 0.013706 seconds.\n",
      "You can set `force_row_wise=true` to remove the overhead.\n",
      "And if memory is not enough, you can set `force_col_wise=true`.\n",
      "[LightGBM] [Info] Total Bins 6764\n",
      "[LightGBM] [Info] Number of data points in the train set: 4864, number of used features: 365\n",
      "[LightGBM] [Info] [binary:BoostFromScore]: pavg=0.204153 -> initscore=-1.360537\n",
      "[LightGBM] [Info] Start training from score -1.360537\n",
      "For  lgb\n",
      "Accuracy -  0.9663105998356615\n",
      "Precision -  0.9436619718309859\n"
     ]
    }
   ],
   "source": [
    "accuracy_scores = []\n",
    "precision_scores = []\n",
    "\n",
    "for name, clf in clfs.items():\n",
    "    \n",
    "    current_accuracy, current_precision = train_classifier(clf, X_train_features, y_train, X_test_features, y_test)\n",
    "    \n",
    "    print(\"For \", name)\n",
    "    print(\"Accuracy - \", current_accuracy)\n",
    "    print(\"Precision - \", current_precision)\n",
    "    \n",
    "    accuracy_scores.append(current_accuracy)\n",
    "    precision_scores.append(current_precision)"
   ]
  },
  {
   "cell_type": "code",
   "execution_count": 107,
   "id": "47417cd5",
   "metadata": {},
   "outputs": [],
   "source": [
    "performance_df = pd.DataFrame({'Algorithm': clfs.keys(), 'Accuracy':accuracy_scores, 'Precision':precision_scores}).sort_values('Accuracy', ascending = False)"
   ]
  },
  {
   "cell_type": "code",
   "execution_count": 108,
   "id": "d24c81c5",
   "metadata": {},
   "outputs": [
    {
     "data": {
      "text/html": [
       "<div>\n",
       "<style scoped>\n",
       "    .dataframe tbody tr th:only-of-type {\n",
       "        vertical-align: middle;\n",
       "    }\n",
       "\n",
       "    .dataframe tbody tr th {\n",
       "        vertical-align: top;\n",
       "    }\n",
       "\n",
       "    .dataframe thead th {\n",
       "        text-align: right;\n",
       "    }\n",
       "</style>\n",
       "<table border=\"1\" class=\"dataframe\">\n",
       "  <thead>\n",
       "    <tr style=\"text-align: right;\">\n",
       "      <th></th>\n",
       "      <th>Algorithm</th>\n",
       "      <th>Accuracy</th>\n",
       "      <th>Precision</th>\n",
       "    </tr>\n",
       "  </thead>\n",
       "  <tbody>\n",
       "    <tr>\n",
       "      <th>0</th>\n",
       "      <td>SVC</td>\n",
       "      <td>0.976993</td>\n",
       "      <td>0.967593</td>\n",
       "    </tr>\n",
       "    <tr>\n",
       "      <th>8</th>\n",
       "      <td>ETC</td>\n",
       "      <td>0.974528</td>\n",
       "      <td>0.980676</td>\n",
       "    </tr>\n",
       "    <tr>\n",
       "      <th>2</th>\n",
       "      <td>NB</td>\n",
       "      <td>0.971241</td>\n",
       "      <td>0.989950</td>\n",
       "    </tr>\n",
       "    <tr>\n",
       "      <th>11</th>\n",
       "      <td>lgb</td>\n",
       "      <td>0.966311</td>\n",
       "      <td>0.943662</td>\n",
       "    </tr>\n",
       "    <tr>\n",
       "      <th>7</th>\n",
       "      <td>BgC</td>\n",
       "      <td>0.958915</td>\n",
       "      <td>0.891304</td>\n",
       "    </tr>\n",
       "    <tr>\n",
       "      <th>10</th>\n",
       "      <td>xbg</td>\n",
       "      <td>0.951520</td>\n",
       "      <td>0.943005</td>\n",
       "    </tr>\n",
       "    <tr>\n",
       "      <th>4</th>\n",
       "      <td>LR</td>\n",
       "      <td>0.948233</td>\n",
       "      <td>0.932642</td>\n",
       "    </tr>\n",
       "    <tr>\n",
       "      <th>6</th>\n",
       "      <td>AdaBoost</td>\n",
       "      <td>0.939195</td>\n",
       "      <td>0.886139</td>\n",
       "    </tr>\n",
       "    <tr>\n",
       "      <th>9</th>\n",
       "      <td>GBDT</td>\n",
       "      <td>0.914544</td>\n",
       "      <td>0.956522</td>\n",
       "    </tr>\n",
       "    <tr>\n",
       "      <th>3</th>\n",
       "      <td>DT</td>\n",
       "      <td>0.895645</td>\n",
       "      <td>0.870504</td>\n",
       "    </tr>\n",
       "    <tr>\n",
       "      <th>1</th>\n",
       "      <td>KN</td>\n",
       "      <td>0.883320</td>\n",
       "      <td>1.000000</td>\n",
       "    </tr>\n",
       "    <tr>\n",
       "      <th>5</th>\n",
       "      <td>RF</td>\n",
       "      <td>0.848809</td>\n",
       "      <td>1.000000</td>\n",
       "    </tr>\n",
       "  </tbody>\n",
       "</table>\n",
       "</div>"
      ],
      "text/plain": [
       "   Algorithm  Accuracy  Precision\n",
       "0        SVC  0.976993   0.967593\n",
       "8        ETC  0.974528   0.980676\n",
       "2         NB  0.971241   0.989950\n",
       "11       lgb  0.966311   0.943662\n",
       "7        BgC  0.958915   0.891304\n",
       "10       xbg  0.951520   0.943005\n",
       "4         LR  0.948233   0.932642\n",
       "6   AdaBoost  0.939195   0.886139\n",
       "9       GBDT  0.914544   0.956522\n",
       "3         DT  0.895645   0.870504\n",
       "1         KN  0.883320   1.000000\n",
       "5         RF  0.848809   1.000000"
      ]
     },
     "execution_count": 108,
     "metadata": {},
     "output_type": "execute_result"
    }
   ],
   "source": [
    "performance_df"
   ]
  },
  {
   "cell_type": "code",
   "execution_count": 109,
   "id": "100b53ae",
   "metadata": {},
   "outputs": [],
   "source": [
    "performance_df1 = pd.melt(performance_df, id_vars = \"Algorithm\")"
   ]
  },
  {
   "cell_type": "code",
   "execution_count": 110,
   "id": "94f11436",
   "metadata": {},
   "outputs": [
    {
     "data": {
      "text/html": [
       "<div>\n",
       "<style scoped>\n",
       "    .dataframe tbody tr th:only-of-type {\n",
       "        vertical-align: middle;\n",
       "    }\n",
       "\n",
       "    .dataframe tbody tr th {\n",
       "        vertical-align: top;\n",
       "    }\n",
       "\n",
       "    .dataframe thead th {\n",
       "        text-align: right;\n",
       "    }\n",
       "</style>\n",
       "<table border=\"1\" class=\"dataframe\">\n",
       "  <thead>\n",
       "    <tr style=\"text-align: right;\">\n",
       "      <th></th>\n",
       "      <th>Algorithm</th>\n",
       "      <th>variable</th>\n",
       "      <th>value</th>\n",
       "    </tr>\n",
       "  </thead>\n",
       "  <tbody>\n",
       "    <tr>\n",
       "      <th>0</th>\n",
       "      <td>SVC</td>\n",
       "      <td>Accuracy</td>\n",
       "      <td>0.976993</td>\n",
       "    </tr>\n",
       "    <tr>\n",
       "      <th>1</th>\n",
       "      <td>ETC</td>\n",
       "      <td>Accuracy</td>\n",
       "      <td>0.974528</td>\n",
       "    </tr>\n",
       "    <tr>\n",
       "      <th>2</th>\n",
       "      <td>NB</td>\n",
       "      <td>Accuracy</td>\n",
       "      <td>0.971241</td>\n",
       "    </tr>\n",
       "    <tr>\n",
       "      <th>3</th>\n",
       "      <td>lgb</td>\n",
       "      <td>Accuracy</td>\n",
       "      <td>0.966311</td>\n",
       "    </tr>\n",
       "    <tr>\n",
       "      <th>4</th>\n",
       "      <td>BgC</td>\n",
       "      <td>Accuracy</td>\n",
       "      <td>0.958915</td>\n",
       "    </tr>\n",
       "    <tr>\n",
       "      <th>5</th>\n",
       "      <td>xbg</td>\n",
       "      <td>Accuracy</td>\n",
       "      <td>0.951520</td>\n",
       "    </tr>\n",
       "    <tr>\n",
       "      <th>6</th>\n",
       "      <td>LR</td>\n",
       "      <td>Accuracy</td>\n",
       "      <td>0.948233</td>\n",
       "    </tr>\n",
       "    <tr>\n",
       "      <th>7</th>\n",
       "      <td>AdaBoost</td>\n",
       "      <td>Accuracy</td>\n",
       "      <td>0.939195</td>\n",
       "    </tr>\n",
       "    <tr>\n",
       "      <th>8</th>\n",
       "      <td>GBDT</td>\n",
       "      <td>Accuracy</td>\n",
       "      <td>0.914544</td>\n",
       "    </tr>\n",
       "    <tr>\n",
       "      <th>9</th>\n",
       "      <td>DT</td>\n",
       "      <td>Accuracy</td>\n",
       "      <td>0.895645</td>\n",
       "    </tr>\n",
       "    <tr>\n",
       "      <th>10</th>\n",
       "      <td>KN</td>\n",
       "      <td>Accuracy</td>\n",
       "      <td>0.883320</td>\n",
       "    </tr>\n",
       "    <tr>\n",
       "      <th>11</th>\n",
       "      <td>RF</td>\n",
       "      <td>Accuracy</td>\n",
       "      <td>0.848809</td>\n",
       "    </tr>\n",
       "    <tr>\n",
       "      <th>12</th>\n",
       "      <td>SVC</td>\n",
       "      <td>Precision</td>\n",
       "      <td>0.967593</td>\n",
       "    </tr>\n",
       "    <tr>\n",
       "      <th>13</th>\n",
       "      <td>ETC</td>\n",
       "      <td>Precision</td>\n",
       "      <td>0.980676</td>\n",
       "    </tr>\n",
       "    <tr>\n",
       "      <th>14</th>\n",
       "      <td>NB</td>\n",
       "      <td>Precision</td>\n",
       "      <td>0.989950</td>\n",
       "    </tr>\n",
       "    <tr>\n",
       "      <th>15</th>\n",
       "      <td>lgb</td>\n",
       "      <td>Precision</td>\n",
       "      <td>0.943662</td>\n",
       "    </tr>\n",
       "    <tr>\n",
       "      <th>16</th>\n",
       "      <td>BgC</td>\n",
       "      <td>Precision</td>\n",
       "      <td>0.891304</td>\n",
       "    </tr>\n",
       "    <tr>\n",
       "      <th>17</th>\n",
       "      <td>xbg</td>\n",
       "      <td>Precision</td>\n",
       "      <td>0.943005</td>\n",
       "    </tr>\n",
       "    <tr>\n",
       "      <th>18</th>\n",
       "      <td>LR</td>\n",
       "      <td>Precision</td>\n",
       "      <td>0.932642</td>\n",
       "    </tr>\n",
       "    <tr>\n",
       "      <th>19</th>\n",
       "      <td>AdaBoost</td>\n",
       "      <td>Precision</td>\n",
       "      <td>0.886139</td>\n",
       "    </tr>\n",
       "    <tr>\n",
       "      <th>20</th>\n",
       "      <td>GBDT</td>\n",
       "      <td>Precision</td>\n",
       "      <td>0.956522</td>\n",
       "    </tr>\n",
       "    <tr>\n",
       "      <th>21</th>\n",
       "      <td>DT</td>\n",
       "      <td>Precision</td>\n",
       "      <td>0.870504</td>\n",
       "    </tr>\n",
       "    <tr>\n",
       "      <th>22</th>\n",
       "      <td>KN</td>\n",
       "      <td>Precision</td>\n",
       "      <td>1.000000</td>\n",
       "    </tr>\n",
       "    <tr>\n",
       "      <th>23</th>\n",
       "      <td>RF</td>\n",
       "      <td>Precision</td>\n",
       "      <td>1.000000</td>\n",
       "    </tr>\n",
       "  </tbody>\n",
       "</table>\n",
       "</div>"
      ],
      "text/plain": [
       "   Algorithm   variable     value\n",
       "0        SVC   Accuracy  0.976993\n",
       "1        ETC   Accuracy  0.974528\n",
       "2         NB   Accuracy  0.971241\n",
       "3        lgb   Accuracy  0.966311\n",
       "4        BgC   Accuracy  0.958915\n",
       "5        xbg   Accuracy  0.951520\n",
       "6         LR   Accuracy  0.948233\n",
       "7   AdaBoost   Accuracy  0.939195\n",
       "8       GBDT   Accuracy  0.914544\n",
       "9         DT   Accuracy  0.895645\n",
       "10        KN   Accuracy  0.883320\n",
       "11        RF   Accuracy  0.848809\n",
       "12       SVC  Precision  0.967593\n",
       "13       ETC  Precision  0.980676\n",
       "14        NB  Precision  0.989950\n",
       "15       lgb  Precision  0.943662\n",
       "16       BgC  Precision  0.891304\n",
       "17       xbg  Precision  0.943005\n",
       "18        LR  Precision  0.932642\n",
       "19  AdaBoost  Precision  0.886139\n",
       "20      GBDT  Precision  0.956522\n",
       "21        DT  Precision  0.870504\n",
       "22        KN  Precision  1.000000\n",
       "23        RF  Precision  1.000000"
      ]
     },
     "execution_count": 110,
     "metadata": {},
     "output_type": "execute_result"
    }
   ],
   "source": [
    "performance_df1"
   ]
  },
  {
   "cell_type": "code",
   "execution_count": 111,
   "id": "cc65a553",
   "metadata": {},
   "outputs": [
    {
     "data": {
      "image/png": "[encoded data removed]",
      "text/plain": [
       "<Figure size 441.75x360 with 1 Axes>"
      ]
     },
     "metadata": {
      "needs_background": "light"
     },
     "output_type": "display_data"
    }
   ],
   "source": [
    "sns.catplot(x = 'Algorithm', y = 'value', hue = 'variable', data = performance_df1, kind ='bar', height = 5)\n",
    "plt.ylim(0.5,1.0)\n",
    "plt.xticks(rotation = 'vertical')\n",
    "plt.show()"
   ]
  },
  {
   "cell_type": "code",
   "execution_count": 112,
   "id": "48fcec38",
   "metadata": {},
   "outputs": [
    {
     "data": {
      "text/plain": [
       "SVC(gamma=1.0, kernel='sigmoid')"
      ]
     },
     "execution_count": 112,
     "metadata": {},
     "output_type": "execute_result"
    }
   ],
   "source": [
    "svc.fit(X_train_features, y_train) "
   ]
  },
  {
   "cell_type": "code",
   "execution_count": 113,
   "id": "17f946ee",
   "metadata": {},
   "outputs": [],
   "source": [
    "prediction_on_test_data = svc.predict(X_test_features)\n",
    "accuracy_on_test_data = accuracy_score(y_test, prediction_on_test_data)"
   ]
  },
  {
   "cell_type": "code",
   "execution_count": 114,
   "id": "1928f7b5",
   "metadata": {},
   "outputs": [
    {
     "name": "stdout",
     "output_type": "stream",
     "text": [
      "Accuracy on test data :  0.9769926047658176\n"
     ]
    }
   ],
   "source": [
    "print('Accuracy on test data : ', accuracy_on_test_data)"
   ]
  },
  {
   "cell_type": "code",
   "execution_count": 115,
   "id": "b91ab561",
   "metadata": {},
   "outputs": [
    {
     "name": "stdout",
     "output_type": "stream",
     "text": [
      "[0]\n",
      "legit\n"
     ]
    }
   ],
   "source": [
    "#Transforming input\n",
    "x = transform_text('Muli bwanji?')\n",
    "\n",
    "input_mail = [x]\n",
    "\n",
    "input_data_features = feature_extraction.transform(input_mail)\n",
    "\n",
    "#Making prediction\n",
    "\n",
    "prediction = svc.predict(input_data_features)\n",
    "\n",
    "print(prediction)\n",
    "\n",
    "if prediction[0] == 0:\n",
    "    print('legit')\n",
    "else:\n",
    "    print('smishing')"
   ]
  },
  {
   "cell_type": "code",
   "execution_count": 116,
   "id": "f6deb843",
   "metadata": {},
   "outputs": [],
   "source": [
    "import pickle\n",
    "pickle.dump(feature_extraction, open('vectorizer.pkl', 'wb'))\n",
    "pickle.dump(svc, open('model.pkl', 'wb'))"
   ]
  },
  {
   "cell_type": "code",
   "execution_count": null,
   "id": "df26931b",
   "metadata": {},
   "outputs": [],
   "source": []
  }
 ],
 "metadata": {
  "kernelspec": {
   "display_name": "Python 3",
   "language": "python",
   "name": "python3"
  },
  "language_info": {
   "codemirror_mode": {
    "name": "ipython",
    "version": 3
   },
   "file_extension": ".py",
   "mimetype": "text/x-python",
   "name": "python",
   "nbconvert_exporter": "python",
   "pygments_lexer": "ipython3",
   "version": "3.8.8"
  }
 },
 "nbformat": 4,
 "nbformat_minor": 5
}
